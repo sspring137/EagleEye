{
 "cells": [
  {
   "cell_type": "markdown",
   "id": "5aa2a99a",
   "metadata": {},
   "source": [
    "#  EagleEye tutorial\n"
   ]
  },
  {
   "cell_type": "markdown",
   "id": "50325293",
   "metadata": {},
   "source": [
    "We import necessary libraries and set up custom plot configurations for consistency."
   ]
  },
  {
   "cell_type": "code",
   "execution_count": 6,
   "id": "2bd26993",
   "metadata": {},
   "outputs": [],
   "source": [
    "# Imports\n",
    "import numpy as np\n",
    "import matplotlib.pyplot as plt\n",
    "import seaborn as sns\n",
    "\n",
    "# Directory setup for custom modules\n",
    "import sys\n",
    "module_path = '../../eagleeye'\n",
    "sys.path.append(module_path)\n",
    "import EagleEye\n",
    "from utils_EE import compute_the_null, partitioning_function\n",
    "\n",
    "# Custom plotting settings\n",
    "sns.set(style=\"darkgrid\")\n",
    "plt.rcParams.update({\n",
    "    'axes.titlesize': 21,\n",
    "    'axes.labelsize': 17,\n",
    "    'xtick.labelsize': 17,\n",
    "    'ytick.labelsize': 17,\n",
    "    'legend.fontsize': 17,\n",
    "    'axes.grid': True,\n",
    "    'grid.alpha': 0.3,\n",
    "    'grid.linestyle': '--',\n",
    "    'grid.color': 'silver'\n",
    "})\n"
   ]
  },
  {
   "cell_type": "markdown",
   "id": "4dd971e3",
   "metadata": {},
   "source": [
    "## 1. Generate the datasets "
   ]
  },
  {
   "cell_type": "code",
   "execution_count": 7,
   "id": "aaa476da",
   "metadata": {},
   "outputs": [],
   "source": [
    "# Functions for generating random points and data with anomalies\n",
    "def generate_random_points(num_points, num_dimensions, radius, shift_factor=.5):\n",
    "    \"\"\"Generates random points in 3D with specified characteristic scale.\"\"\"\n",
    "    theta, phi = np.random.uniform(0, 2 * np.pi, (2, num_points))\n",
    "    x = (radius + radius / 6 * np.cos(phi)) * np.cos(theta) + shift_factor\n",
    "    y = (radius + radius / 6 * np.cos(phi)) * np.sin(theta) \n",
    "    z = (radius / 6) * np.sin(phi)\n",
    "    if num_dimensions > 3:\n",
    "        #noise = np.random.normal(0, radius / 2, (num_points, num_dimensions - 3))\n",
    "        mean = np.random.normal(0, radius, num_dimensions - 3)\n",
    "        covariance = np.eye(num_dimensions - 3) *radius**2  \n",
    "        noise = np.random.multivariate_normal(mean, covariance, num_points)\n",
    "        \n",
    "        points = np.column_stack((x, y, z, noise))\n",
    "    else:\n",
    "        points = np.column_stack((x, y))\n",
    "    return points\n",
    "\n",
    "\n",
    "\n",
    "#def generate_donuts(dim, sizes,R, sig):\n",
    "def generate_data_with_torus_anomalies(num_dimensions, cluster_sizes, anomaly_radius, shift_factors):\n",
    "    samples = []\n",
    "    \n",
    "    samples.append(np.random.multivariate_normal(np.array([0] + [0] * (num_dimensions - 1)), np.eye(num_dimensions), sizes[0]))\n",
    "    samples.append( generate_random_points(cluster_sizes[1], num_dimensions,anomaly_radius, shift_factors) )\n",
    "    if len(sizes)>2:\n",
    "        samples.append( generate_random_points(cluster_sizes[2], num_dimensions,anomaly_radius, shift_factors) )\n",
    "    return np.vstack(samples)\n",
    "\n",
    "\n",
    "def generate_gaussian_mixture(dim, sizes, means, covariances):\n",
    "    samples = []\n",
    "    for mean, cov, size in zip(means, covariances, sizes):\n",
    "        samples.append(np.random.multivariate_normal(mean, cov, size))\n",
    "    return np.vstack(samples)\n",
    "\n",
    "\n",
    "#def setup_gaussian_components(dim=10,s1=3000,sig=0.5):\n",
    "def setup_gaussian_components(num_dimensions=10, background_size=10000, shift_factors = 0.5, contamination_size=200):\n",
    "    m1D1, m1D2 = -shift_factors, 0\n",
    "    m2D1, m2D2 = +shift_factors, 0\n",
    "    sizes = [background_size, contamination_size,1]\n",
    "    means = [np.array([0] * (num_dimensions)), np.array([m1D1, m1D2] + [0] * (num_dimensions - 2)), np.array([m2D1, m2D2] + [0] * (num_dimensions - 2))]\n",
    "    cstd2 = 0.01 + np.random.rand() * 0.02\n",
    "    return num_dimensions, sizes, means, cstd2"
   ]
  },
  {
   "cell_type": "code",
   "execution_count": 8,
   "id": "53aa510c",
   "metadata": {},
   "outputs": [],
   "source": [
    "#%% EagleEye hyperparameters\n",
    "\n",
    "p       = .5\n",
    "\n",
    "K_M     = 500\n",
    "\n",
    "p_ext   = 1e-5\n",
    "\n",
    "n_jobs  = 10"
   ]
  },
  {
   "cell_type": "code",
   "execution_count": 9,
   "id": "33e3dc20-be54-490b-a1e1-63a6d8f978fb",
   "metadata": {},
   "outputs": [],
   "source": [
    "stats_null                     = compute_the_null(p=p, K_M=K_M)"
   ]
  },
  {
   "cell_type": "code",
   "execution_count": 10,
   "id": "2e13d479",
   "metadata": {},
   "outputs": [],
   "source": [
    "\n",
    "contamination_sizes=[1000, 750, 500, 250, 150, 70]\n",
    "\n",
    "results_10k = {\n",
    "\"Torous\": {\n",
    "    i: {\"len_Pruned\": None, \"len_Repechaged\": None,\"Upsilon_star\": None}\n",
    "    for i in contamination_sizes\n",
    "},\n",
    "\"Gaussian\": {\n",
    "    i: {\"len_Pruned\": None, \"len_Repechaged\": None,\"Upsilon_star\": None}\n",
    "    for i in contamination_sizes\n",
    "}\n",
    "}\n"
   ]
  },
  {
   "cell_type": "code",
   "execution_count": 13,
   "id": "fbd631ca",
   "metadata": {},
   "outputs": [],
   "source": [
    "num_dimensions = 10\n",
    "tot_samples = 10000"
   ]
  },
  {
   "cell_type": "code",
   "execution_count": 14,
   "id": "02755181",
   "metadata": {},
   "outputs": [
    {
     "name": "stdout",
     "output_type": "stream",
     "text": [
      "-----------------------------------------------------------------\n",
      "Eagle...Soar!\n",
      "-----------------------------------------------------------------\n",
      "Compute the nearest neighbours\n",
      "KNN completed: 0.00 %\n",
      "KNN completed: 50.00 %\n",
      "-----------------------------------------------------------------\n",
      "Flagging of putative anomalous points\n",
      "-----------------------------------------------------------------\n"
     ]
    },
    {
     "data": {
      "text/latex": [
       "$\\displaystyle \\text{Compute} \\ \\mathcal{Y}^{+}$"
      ],
      "text/plain": [
       "<IPython.core.display.Math object>"
      ]
     },
     "metadata": {},
     "output_type": "display_data"
    },
    {
     "data": {
      "text/plain": [
       "'DONE!'"
      ]
     },
     "metadata": {},
     "output_type": "display_data"
    },
    {
     "data": {
      "text/latex": [
       "$\\displaystyle \\text{Compute} \\ \\mathcal{X}^{+}$"
      ],
      "text/plain": [
       "<IPython.core.display.Math object>"
      ]
     },
     "metadata": {},
     "output_type": "display_data"
    },
    {
     "data": {
      "text/plain": [
       "'DONE!'"
      ]
     },
     "metadata": {},
     "output_type": "display_data"
    },
    {
     "name": "stdout",
     "output_type": "stream",
     "text": [
      "-----------------------------------------------------------------\n",
      "Pruning via iterative density equalization (IDE)\n",
      "-----------------------------------------------------------------\n"
     ]
    },
    {
     "data": {
      "text/latex": [
       "$\\displaystyle \\text{Compute} \\ \\hat{\\mathcal{Y}}^+$"
      ],
      "text/plain": [
       "<IPython.core.display.Math object>"
      ]
     },
     "metadata": {},
     "output_type": "display_data"
    },
    {
     "data": {
      "text/plain": [
       "'DONE!'"
      ]
     },
     "metadata": {},
     "output_type": "display_data"
    },
    {
     "data": {
      "text/latex": [
       "$\\displaystyle \\text{Compute} \\ \\hat{\\mathcal{X}}^+$"
      ],
      "text/plain": [
       "<IPython.core.display.Math object>"
      ]
     },
     "metadata": {},
     "output_type": "display_data"
    },
    {
     "data": {
      "text/plain": [
       "'DONE!'"
      ]
     },
     "metadata": {},
     "output_type": "display_data"
    },
    {
     "name": "stdout",
     "output_type": "stream",
     "text": [
      "-----------------------------------------------------------------\n",
      "Clustering\n"
     ]
    },
    {
     "name": "stderr",
     "output_type": "stream",
     "text": [
      "/home/johan/anaconda3/envs/EE_v17/lib/python3.12/site-packages/tqdm/auto.py:21: TqdmWarning: IProgress not found. Please update jupyter and ipywidgets. See https://ipywidgets.readthedocs.io/en/stable/user_install.html\n",
      "  from .autonotebook import tqdm as notebook_tqdm\n"
     ]
    },
    {
     "name": "stdout",
     "output_type": "stream",
     "text": [
      "-----------------------------------------------------------------\n",
      "-----------------------------------------------------------------\n",
      "Repêchage\n",
      "-----------------------------------------------------------------\n"
     ]
    },
    {
     "data": {
      "text/latex": [
       "$\\displaystyle \\text{Compute} \\ \\mathcal{Y}_\\alpha^{\\mathrm{anom}}$"
      ],
      "text/plain": [
       "<IPython.core.display.Math object>"
      ]
     },
     "metadata": {},
     "output_type": "display_data"
    },
    {
     "name": "stdout",
     "output_type": "stream",
     "text": [
      "alpha = 1\n"
     ]
    },
    {
     "data": {
      "text/plain": [
       "'DONE!'"
      ]
     },
     "metadata": {},
     "output_type": "display_data"
    },
    {
     "data": {
      "text/latex": [
       "$\\displaystyle \\text{Compute} \\ \\mathcal{X}_\\alpha^{\\mathrm{anom}}$"
      ],
      "text/plain": [
       "<IPython.core.display.Math object>"
      ]
     },
     "metadata": {},
     "output_type": "display_data"
    },
    {
     "name": "stdout",
     "output_type": "stream",
     "text": [
      "alpha = 1\n"
     ]
    },
    {
     "data": {
      "text/plain": [
       "'DONE!'"
      ]
     },
     "metadata": {},
     "output_type": "display_data"
    },
    {
     "name": "stdout",
     "output_type": "stream",
     "text": [
      "-----------------------------------------------------------------\n",
      "Eagle...Soar!\n",
      "-----------------------------------------------------------------\n",
      "Compute the nearest neighbours\n",
      "KNN completed: 0.00 %\n",
      "KNN completed: 50.00 %\n",
      "-----------------------------------------------------------------\n",
      "Flagging of putative anomalous points\n",
      "-----------------------------------------------------------------\n"
     ]
    },
    {
     "data": {
      "text/latex": [
       "$\\displaystyle \\text{Compute} \\ \\mathcal{Y}^{+}$"
      ],
      "text/plain": [
       "<IPython.core.display.Math object>"
      ]
     },
     "metadata": {},
     "output_type": "display_data"
    },
    {
     "data": {
      "text/plain": [
       "'DONE!'"
      ]
     },
     "metadata": {},
     "output_type": "display_data"
    },
    {
     "data": {
      "text/latex": [
       "$\\displaystyle \\text{Compute} \\ \\mathcal{X}^{+}$"
      ],
      "text/plain": [
       "<IPython.core.display.Math object>"
      ]
     },
     "metadata": {},
     "output_type": "display_data"
    },
    {
     "data": {
      "text/plain": [
       "'DONE!'"
      ]
     },
     "metadata": {},
     "output_type": "display_data"
    },
    {
     "name": "stdout",
     "output_type": "stream",
     "text": [
      "-----------------------------------------------------------------\n",
      "Pruning via iterative density equalization (IDE)\n",
      "-----------------------------------------------------------------\n"
     ]
    },
    {
     "data": {
      "text/latex": [
       "$\\displaystyle \\text{Compute} \\ \\hat{\\mathcal{Y}}^+$"
      ],
      "text/plain": [
       "<IPython.core.display.Math object>"
      ]
     },
     "metadata": {},
     "output_type": "display_data"
    },
    {
     "data": {
      "text/plain": [
       "'DONE!'"
      ]
     },
     "metadata": {},
     "output_type": "display_data"
    },
    {
     "data": {
      "text/latex": [
       "$\\displaystyle \\text{Compute} \\ \\hat{\\mathcal{X}}^+$"
      ],
      "text/plain": [
       "<IPython.core.display.Math object>"
      ]
     },
     "metadata": {},
     "output_type": "display_data"
    },
    {
     "data": {
      "text/plain": [
       "'DONE!'"
      ]
     },
     "metadata": {},
     "output_type": "display_data"
    },
    {
     "name": "stdout",
     "output_type": "stream",
     "text": [
      "-----------------------------------------------------------------\n",
      "Clustering\n",
      "-----------------------------------------------------------------\n",
      "-----------------------------------------------------------------\n",
      "Repêchage\n",
      "-----------------------------------------------------------------\n"
     ]
    },
    {
     "data": {
      "text/latex": [
       "$\\displaystyle \\text{Compute} \\ \\mathcal{Y}_\\alpha^{\\mathrm{anom}}$"
      ],
      "text/plain": [
       "<IPython.core.display.Math object>"
      ]
     },
     "metadata": {},
     "output_type": "display_data"
    },
    {
     "name": "stdout",
     "output_type": "stream",
     "text": [
      "alpha = 1\n"
     ]
    },
    {
     "data": {
      "text/plain": [
       "'DONE!'"
      ]
     },
     "metadata": {},
     "output_type": "display_data"
    },
    {
     "data": {
      "text/latex": [
       "$\\displaystyle \\text{Compute} \\ \\mathcal{X}_\\alpha^{\\mathrm{anom}}$"
      ],
      "text/plain": [
       "<IPython.core.display.Math object>"
      ]
     },
     "metadata": {},
     "output_type": "display_data"
    },
    {
     "name": "stdout",
     "output_type": "stream",
     "text": [
      "alpha = 1\n"
     ]
    },
    {
     "data": {
      "text/plain": [
       "'DONE!'"
      ]
     },
     "metadata": {},
     "output_type": "display_data"
    },
    {
     "name": "stdout",
     "output_type": "stream",
     "text": [
      "-----------------------------------------------------------------\n",
      "Eagle...Soar!\n",
      "-----------------------------------------------------------------\n",
      "Compute the nearest neighbours\n",
      "KNN completed: 0.00 %\n",
      "KNN completed: 50.00 %\n",
      "-----------------------------------------------------------------\n",
      "Flagging of putative anomalous points\n",
      "-----------------------------------------------------------------\n"
     ]
    },
    {
     "data": {
      "text/latex": [
       "$\\displaystyle \\text{Compute} \\ \\mathcal{Y}^{+}$"
      ],
      "text/plain": [
       "<IPython.core.display.Math object>"
      ]
     },
     "metadata": {},
     "output_type": "display_data"
    },
    {
     "data": {
      "text/plain": [
       "'DONE!'"
      ]
     },
     "metadata": {},
     "output_type": "display_data"
    },
    {
     "data": {
      "text/latex": [
       "$\\displaystyle \\text{Compute} \\ \\mathcal{X}^{+}$"
      ],
      "text/plain": [
       "<IPython.core.display.Math object>"
      ]
     },
     "metadata": {},
     "output_type": "display_data"
    },
    {
     "data": {
      "text/plain": [
       "'DONE!'"
      ]
     },
     "metadata": {},
     "output_type": "display_data"
    },
    {
     "name": "stdout",
     "output_type": "stream",
     "text": [
      "-----------------------------------------------------------------\n",
      "Pruning via iterative density equalization (IDE)\n",
      "-----------------------------------------------------------------\n"
     ]
    },
    {
     "data": {
      "text/latex": [
       "$\\displaystyle \\text{Compute} \\ \\hat{\\mathcal{Y}}^+$"
      ],
      "text/plain": [
       "<IPython.core.display.Math object>"
      ]
     },
     "metadata": {},
     "output_type": "display_data"
    },
    {
     "data": {
      "text/plain": [
       "'DONE!'"
      ]
     },
     "metadata": {},
     "output_type": "display_data"
    },
    {
     "name": "stdout",
     "output_type": "stream",
     "text": [
      "-----------------------------------------------------------------\n",
      "Clustering\n",
      "-----------------------------------------------------------------\n",
      "-----------------------------------------------------------------\n",
      "Repêchage\n",
      "-----------------------------------------------------------------\n"
     ]
    },
    {
     "data": {
      "text/latex": [
       "$\\displaystyle \\text{Compute} \\ \\mathcal{Y}_\\alpha^{\\mathrm{anom}}$"
      ],
      "text/plain": [
       "<IPython.core.display.Math object>"
      ]
     },
     "metadata": {},
     "output_type": "display_data"
    },
    {
     "name": "stdout",
     "output_type": "stream",
     "text": [
      "alpha = 1\n"
     ]
    },
    {
     "data": {
      "text/plain": [
       "'DONE!'"
      ]
     },
     "metadata": {},
     "output_type": "display_data"
    },
    {
     "data": {
      "text/plain": [
       "'!!! No X-Overdensities found !!!'"
      ]
     },
     "metadata": {},
     "output_type": "display_data"
    },
    {
     "name": "stdout",
     "output_type": "stream",
     "text": [
      "-----------------------------------------------------------------\n",
      "Eagle...Soar!\n",
      "-----------------------------------------------------------------\n",
      "Compute the nearest neighbours\n",
      "KNN completed: 0.00 %\n",
      "KNN completed: 50.00 %\n",
      "-----------------------------------------------------------------\n",
      "Flagging of putative anomalous points\n",
      "-----------------------------------------------------------------\n"
     ]
    },
    {
     "data": {
      "text/latex": [
       "$\\displaystyle \\text{Compute} \\ \\mathcal{Y}^{+}$"
      ],
      "text/plain": [
       "<IPython.core.display.Math object>"
      ]
     },
     "metadata": {},
     "output_type": "display_data"
    },
    {
     "data": {
      "text/plain": [
       "'DONE!'"
      ]
     },
     "metadata": {},
     "output_type": "display_data"
    },
    {
     "data": {
      "text/latex": [
       "$\\displaystyle \\text{Compute} \\ \\mathcal{X}^{+}$"
      ],
      "text/plain": [
       "<IPython.core.display.Math object>"
      ]
     },
     "metadata": {},
     "output_type": "display_data"
    },
    {
     "data": {
      "text/plain": [
       "'DONE!'"
      ]
     },
     "metadata": {},
     "output_type": "display_data"
    },
    {
     "name": "stdout",
     "output_type": "stream",
     "text": [
      "-----------------------------------------------------------------\n",
      "Pruning via iterative density equalization (IDE)\n",
      "-----------------------------------------------------------------\n"
     ]
    },
    {
     "data": {
      "text/latex": [
       "$\\displaystyle \\text{Compute} \\ \\hat{\\mathcal{Y}}^+$"
      ],
      "text/plain": [
       "<IPython.core.display.Math object>"
      ]
     },
     "metadata": {},
     "output_type": "display_data"
    },
    {
     "data": {
      "text/plain": [
       "'DONE!'"
      ]
     },
     "metadata": {},
     "output_type": "display_data"
    },
    {
     "name": "stdout",
     "output_type": "stream",
     "text": [
      "-----------------------------------------------------------------\n",
      "Clustering\n",
      "-----------------------------------------------------------------\n",
      "-----------------------------------------------------------------\n",
      "Repêchage\n",
      "-----------------------------------------------------------------\n"
     ]
    },
    {
     "data": {
      "text/latex": [
       "$\\displaystyle \\text{Compute} \\ \\mathcal{Y}_\\alpha^{\\mathrm{anom}}$"
      ],
      "text/plain": [
       "<IPython.core.display.Math object>"
      ]
     },
     "metadata": {},
     "output_type": "display_data"
    },
    {
     "name": "stdout",
     "output_type": "stream",
     "text": [
      "alpha = 1\n"
     ]
    },
    {
     "data": {
      "text/plain": [
       "'DONE!'"
      ]
     },
     "metadata": {},
     "output_type": "display_data"
    },
    {
     "data": {
      "text/plain": [
       "'!!! No X-Overdensities found !!!'"
      ]
     },
     "metadata": {},
     "output_type": "display_data"
    },
    {
     "name": "stdout",
     "output_type": "stream",
     "text": [
      "-----------------------------------------------------------------\n",
      "Eagle...Soar!\n",
      "-----------------------------------------------------------------\n",
      "Compute the nearest neighbours\n",
      "KNN completed: 0.00 %\n",
      "KNN completed: 50.00 %\n",
      "-----------------------------------------------------------------\n",
      "Flagging of putative anomalous points\n",
      "-----------------------------------------------------------------\n"
     ]
    },
    {
     "data": {
      "text/latex": [
       "$\\displaystyle \\text{Compute} \\ \\mathcal{Y}^{+}$"
      ],
      "text/plain": [
       "<IPython.core.display.Math object>"
      ]
     },
     "metadata": {},
     "output_type": "display_data"
    },
    {
     "data": {
      "text/plain": [
       "'DONE!'"
      ]
     },
     "metadata": {},
     "output_type": "display_data"
    },
    {
     "data": {
      "text/latex": [
       "$\\displaystyle \\text{Compute} \\ \\mathcal{X}^{+}$"
      ],
      "text/plain": [
       "<IPython.core.display.Math object>"
      ]
     },
     "metadata": {},
     "output_type": "display_data"
    },
    {
     "data": {
      "text/plain": [
       "'DONE!'"
      ]
     },
     "metadata": {},
     "output_type": "display_data"
    },
    {
     "name": "stdout",
     "output_type": "stream",
     "text": [
      "-----------------------------------------------------------------\n",
      "Pruning via iterative density equalization (IDE)\n",
      "-----------------------------------------------------------------\n"
     ]
    },
    {
     "data": {
      "text/latex": [
       "$\\displaystyle \\text{Compute} \\ \\hat{\\mathcal{Y}}^+$"
      ],
      "text/plain": [
       "<IPython.core.display.Math object>"
      ]
     },
     "metadata": {},
     "output_type": "display_data"
    },
    {
     "data": {
      "text/plain": [
       "'DONE!'"
      ]
     },
     "metadata": {},
     "output_type": "display_data"
    },
    {
     "name": "stdout",
     "output_type": "stream",
     "text": [
      "-----------------------------------------------------------------\n",
      "Clustering\n",
      "-----------------------------------------------------------------\n",
      "-----------------------------------------------------------------\n",
      "Repêchage\n",
      "-----------------------------------------------------------------\n"
     ]
    },
    {
     "data": {
      "text/latex": [
       "$\\displaystyle \\text{Compute} \\ \\mathcal{Y}_\\alpha^{\\mathrm{anom}}$"
      ],
      "text/plain": [
       "<IPython.core.display.Math object>"
      ]
     },
     "metadata": {},
     "output_type": "display_data"
    },
    {
     "name": "stdout",
     "output_type": "stream",
     "text": [
      "alpha = 1\n"
     ]
    },
    {
     "data": {
      "text/plain": [
       "'DONE!'"
      ]
     },
     "metadata": {},
     "output_type": "display_data"
    },
    {
     "data": {
      "text/plain": [
       "'!!! No X-Overdensities found !!!'"
      ]
     },
     "metadata": {},
     "output_type": "display_data"
    },
    {
     "name": "stdout",
     "output_type": "stream",
     "text": [
      "-----------------------------------------------------------------\n",
      "Eagle...Soar!\n",
      "-----------------------------------------------------------------\n",
      "Compute the nearest neighbours\n",
      "KNN completed: 0.00 %\n",
      "KNN completed: 50.00 %\n",
      "-----------------------------------------------------------------\n",
      "Flagging of putative anomalous points\n",
      "-----------------------------------------------------------------\n"
     ]
    },
    {
     "data": {
      "text/latex": [
       "$\\displaystyle \\text{Compute} \\ \\mathcal{Y}^{+}$"
      ],
      "text/plain": [
       "<IPython.core.display.Math object>"
      ]
     },
     "metadata": {},
     "output_type": "display_data"
    },
    {
     "data": {
      "text/plain": [
       "'DONE!'"
      ]
     },
     "metadata": {},
     "output_type": "display_data"
    },
    {
     "data": {
      "text/latex": [
       "$\\displaystyle \\text{Compute} \\ \\mathcal{X}^{+}$"
      ],
      "text/plain": [
       "<IPython.core.display.Math object>"
      ]
     },
     "metadata": {},
     "output_type": "display_data"
    },
    {
     "data": {
      "text/plain": [
       "'DONE!'"
      ]
     },
     "metadata": {},
     "output_type": "display_data"
    },
    {
     "name": "stdout",
     "output_type": "stream",
     "text": [
      "-----------------------------------------------------------------\n",
      "Pruning via iterative density equalization (IDE)\n",
      "-----------------------------------------------------------------\n"
     ]
    },
    {
     "data": {
      "text/latex": [
       "$\\displaystyle \\text{Compute} \\ \\hat{\\mathcal{Y}}^+$"
      ],
      "text/plain": [
       "<IPython.core.display.Math object>"
      ]
     },
     "metadata": {},
     "output_type": "display_data"
    },
    {
     "data": {
      "text/plain": [
       "'DONE!'"
      ]
     },
     "metadata": {},
     "output_type": "display_data"
    },
    {
     "data": {
      "text/latex": [
       "$\\displaystyle \\text{Compute} \\ \\hat{\\mathcal{X}}^+$"
      ],
      "text/plain": [
       "<IPython.core.display.Math object>"
      ]
     },
     "metadata": {},
     "output_type": "display_data"
    },
    {
     "data": {
      "text/plain": [
       "'DONE!'"
      ]
     },
     "metadata": {},
     "output_type": "display_data"
    },
    {
     "name": "stdout",
     "output_type": "stream",
     "text": [
      "-----------------------------------------------------------------\n",
      "Clustering\n",
      "-----------------------------------------------------------------\n",
      "-----------------------------------------------------------------\n",
      "Repêchage\n",
      "-----------------------------------------------------------------\n"
     ]
    },
    {
     "data": {
      "text/latex": [
       "$\\displaystyle \\text{Compute} \\ \\mathcal{Y}_\\alpha^{\\mathrm{anom}}$"
      ],
      "text/plain": [
       "<IPython.core.display.Math object>"
      ]
     },
     "metadata": {},
     "output_type": "display_data"
    },
    {
     "name": "stdout",
     "output_type": "stream",
     "text": [
      "alpha = 1\n"
     ]
    },
    {
     "data": {
      "text/plain": [
       "'DONE!'"
      ]
     },
     "metadata": {},
     "output_type": "display_data"
    },
    {
     "data": {
      "text/plain": [
       "'!!! No X-Overdensities found !!!'"
      ]
     },
     "metadata": {},
     "output_type": "display_data"
    },
    {
     "name": "stdout",
     "output_type": "stream",
     "text": [
      "-----------------------------------------------------------------\n",
      "Eagle...Soar!\n",
      "-----------------------------------------------------------------\n",
      "Compute the nearest neighbours\n",
      "KNN completed: 0.00 %\n",
      "KNN completed: 50.00 %\n",
      "-----------------------------------------------------------------\n",
      "Flagging of putative anomalous points\n",
      "-----------------------------------------------------------------\n"
     ]
    },
    {
     "data": {
      "text/latex": [
       "$\\displaystyle \\text{Compute} \\ \\mathcal{Y}^{+}$"
      ],
      "text/plain": [
       "<IPython.core.display.Math object>"
      ]
     },
     "metadata": {},
     "output_type": "display_data"
    },
    {
     "data": {
      "text/plain": [
       "'DONE!'"
      ]
     },
     "metadata": {},
     "output_type": "display_data"
    },
    {
     "data": {
      "text/latex": [
       "$\\displaystyle \\text{Compute} \\ \\mathcal{X}^{+}$"
      ],
      "text/plain": [
       "<IPython.core.display.Math object>"
      ]
     },
     "metadata": {},
     "output_type": "display_data"
    },
    {
     "data": {
      "text/plain": [
       "'DONE!'"
      ]
     },
     "metadata": {},
     "output_type": "display_data"
    },
    {
     "name": "stdout",
     "output_type": "stream",
     "text": [
      "-----------------------------------------------------------------\n",
      "Pruning via iterative density equalization (IDE)\n",
      "-----------------------------------------------------------------\n"
     ]
    },
    {
     "data": {
      "text/latex": [
       "$\\displaystyle \\text{Compute} \\ \\hat{\\mathcal{Y}}^+$"
      ],
      "text/plain": [
       "<IPython.core.display.Math object>"
      ]
     },
     "metadata": {},
     "output_type": "display_data"
    },
    {
     "data": {
      "text/plain": [
       "'DONE!'"
      ]
     },
     "metadata": {},
     "output_type": "display_data"
    },
    {
     "name": "stdout",
     "output_type": "stream",
     "text": [
      "-----------------------------------------------------------------\n",
      "Clustering\n",
      "-----------------------------------------------------------------\n",
      "-----------------------------------------------------------------\n",
      "Repêchage\n",
      "-----------------------------------------------------------------\n"
     ]
    },
    {
     "data": {
      "text/latex": [
       "$\\displaystyle \\text{Compute} \\ \\mathcal{Y}_\\alpha^{\\mathrm{anom}}$"
      ],
      "text/plain": [
       "<IPython.core.display.Math object>"
      ]
     },
     "metadata": {},
     "output_type": "display_data"
    },
    {
     "name": "stdout",
     "output_type": "stream",
     "text": [
      "alpha = 1\n"
     ]
    },
    {
     "data": {
      "text/plain": [
       "'DONE!'"
      ]
     },
     "metadata": {},
     "output_type": "display_data"
    },
    {
     "data": {
      "text/plain": [
       "'!!! No X-Overdensities found !!!'"
      ]
     },
     "metadata": {},
     "output_type": "display_data"
    },
    {
     "name": "stdout",
     "output_type": "stream",
     "text": [
      "-----------------------------------------------------------------\n",
      "Eagle...Soar!\n",
      "-----------------------------------------------------------------\n",
      "Compute the nearest neighbours\n",
      "KNN completed: 0.00 %\n",
      "KNN completed: 50.00 %\n",
      "-----------------------------------------------------------------\n",
      "Flagging of putative anomalous points\n",
      "-----------------------------------------------------------------\n"
     ]
    },
    {
     "data": {
      "text/latex": [
       "$\\displaystyle \\text{Compute} \\ \\mathcal{Y}^{+}$"
      ],
      "text/plain": [
       "<IPython.core.display.Math object>"
      ]
     },
     "metadata": {},
     "output_type": "display_data"
    },
    {
     "data": {
      "text/plain": [
       "'DONE!'"
      ]
     },
     "metadata": {},
     "output_type": "display_data"
    },
    {
     "data": {
      "text/latex": [
       "$\\displaystyle \\text{Compute} \\ \\mathcal{X}^{+}$"
      ],
      "text/plain": [
       "<IPython.core.display.Math object>"
      ]
     },
     "metadata": {},
     "output_type": "display_data"
    },
    {
     "data": {
      "text/plain": [
       "'DONE!'"
      ]
     },
     "metadata": {},
     "output_type": "display_data"
    },
    {
     "name": "stdout",
     "output_type": "stream",
     "text": [
      "-----------------------------------------------------------------\n",
      "Pruning via iterative density equalization (IDE)\n",
      "-----------------------------------------------------------------\n"
     ]
    },
    {
     "data": {
      "text/latex": [
       "$\\displaystyle \\text{Compute} \\ \\hat{\\mathcal{Y}}^+$"
      ],
      "text/plain": [
       "<IPython.core.display.Math object>"
      ]
     },
     "metadata": {},
     "output_type": "display_data"
    },
    {
     "data": {
      "text/plain": [
       "'DONE!'"
      ]
     },
     "metadata": {},
     "output_type": "display_data"
    },
    {
     "name": "stdout",
     "output_type": "stream",
     "text": [
      "-----------------------------------------------------------------\n",
      "Clustering\n",
      "-----------------------------------------------------------------\n",
      "-----------------------------------------------------------------\n",
      "Repêchage\n",
      "-----------------------------------------------------------------\n"
     ]
    },
    {
     "data": {
      "text/latex": [
       "$\\displaystyle \\text{Compute} \\ \\mathcal{Y}_\\alpha^{\\mathrm{anom}}$"
      ],
      "text/plain": [
       "<IPython.core.display.Math object>"
      ]
     },
     "metadata": {},
     "output_type": "display_data"
    },
    {
     "name": "stdout",
     "output_type": "stream",
     "text": [
      "alpha = 1\n"
     ]
    },
    {
     "data": {
      "text/plain": [
       "'DONE!'"
      ]
     },
     "metadata": {},
     "output_type": "display_data"
    },
    {
     "data": {
      "text/plain": [
       "'!!! No X-Overdensities found !!!'"
      ]
     },
     "metadata": {},
     "output_type": "display_data"
    },
    {
     "name": "stdout",
     "output_type": "stream",
     "text": [
      "-----------------------------------------------------------------\n",
      "Eagle...Soar!\n",
      "-----------------------------------------------------------------\n",
      "Compute the nearest neighbours\n",
      "KNN completed: 0.00 %\n",
      "KNN completed: 50.00 %\n",
      "-----------------------------------------------------------------\n",
      "Flagging of putative anomalous points\n",
      "-----------------------------------------------------------------\n"
     ]
    },
    {
     "data": {
      "text/latex": [
       "$\\displaystyle \\text{Compute} \\ \\mathcal{Y}^{+}$"
      ],
      "text/plain": [
       "<IPython.core.display.Math object>"
      ]
     },
     "metadata": {},
     "output_type": "display_data"
    },
    {
     "data": {
      "text/plain": [
       "'DONE!'"
      ]
     },
     "metadata": {},
     "output_type": "display_data"
    },
    {
     "data": {
      "text/latex": [
       "$\\displaystyle \\text{Compute} \\ \\mathcal{X}^{+}$"
      ],
      "text/plain": [
       "<IPython.core.display.Math object>"
      ]
     },
     "metadata": {},
     "output_type": "display_data"
    },
    {
     "data": {
      "text/plain": [
       "'DONE!'"
      ]
     },
     "metadata": {},
     "output_type": "display_data"
    },
    {
     "name": "stdout",
     "output_type": "stream",
     "text": [
      "-----------------------------------------------------------------\n",
      "Pruning via iterative density equalization (IDE)\n",
      "-----------------------------------------------------------------\n"
     ]
    },
    {
     "data": {
      "text/latex": [
       "$\\displaystyle \\text{Compute} \\ \\hat{\\mathcal{Y}}^+$"
      ],
      "text/plain": [
       "<IPython.core.display.Math object>"
      ]
     },
     "metadata": {},
     "output_type": "display_data"
    },
    {
     "data": {
      "text/plain": [
       "'DONE!'"
      ]
     },
     "metadata": {},
     "output_type": "display_data"
    },
    {
     "name": "stdout",
     "output_type": "stream",
     "text": [
      "-----------------------------------------------------------------\n",
      "Clustering\n",
      "-----------------------------------------------------------------\n",
      "-----------------------------------------------------------------\n",
      "Repêchage\n",
      "-----------------------------------------------------------------\n"
     ]
    },
    {
     "data": {
      "text/latex": [
       "$\\displaystyle \\text{Compute} \\ \\mathcal{Y}_\\alpha^{\\mathrm{anom}}$"
      ],
      "text/plain": [
       "<IPython.core.display.Math object>"
      ]
     },
     "metadata": {},
     "output_type": "display_data"
    },
    {
     "name": "stdout",
     "output_type": "stream",
     "text": [
      "alpha = 1\n"
     ]
    },
    {
     "data": {
      "text/plain": [
       "'DONE!'"
      ]
     },
     "metadata": {},
     "output_type": "display_data"
    },
    {
     "data": {
      "text/plain": [
       "'!!! No X-Overdensities found !!!'"
      ]
     },
     "metadata": {},
     "output_type": "display_data"
    },
    {
     "name": "stdout",
     "output_type": "stream",
     "text": [
      "-----------------------------------------------------------------\n",
      "Eagle...Soar!\n",
      "-----------------------------------------------------------------\n",
      "Compute the nearest neighbours\n",
      "KNN completed: 0.00 %\n",
      "KNN completed: 50.00 %\n",
      "-----------------------------------------------------------------\n",
      "Flagging of putative anomalous points\n",
      "-----------------------------------------------------------------\n"
     ]
    },
    {
     "data": {
      "text/latex": [
       "$\\displaystyle \\text{Compute} \\ \\mathcal{Y}^{+}$"
      ],
      "text/plain": [
       "<IPython.core.display.Math object>"
      ]
     },
     "metadata": {},
     "output_type": "display_data"
    },
    {
     "data": {
      "text/plain": [
       "'DONE!'"
      ]
     },
     "metadata": {},
     "output_type": "display_data"
    },
    {
     "data": {
      "text/latex": [
       "$\\displaystyle \\text{Compute} \\ \\mathcal{X}^{+}$"
      ],
      "text/plain": [
       "<IPython.core.display.Math object>"
      ]
     },
     "metadata": {},
     "output_type": "display_data"
    },
    {
     "data": {
      "text/plain": [
       "'DONE!'"
      ]
     },
     "metadata": {},
     "output_type": "display_data"
    },
    {
     "name": "stdout",
     "output_type": "stream",
     "text": [
      "-----------------------------------------------------------------\n",
      "Pruning via iterative density equalization (IDE)\n",
      "-----------------------------------------------------------------\n"
     ]
    },
    {
     "data": {
      "text/latex": [
       "$\\displaystyle \\text{Compute} \\ \\hat{\\mathcal{Y}}^+$"
      ],
      "text/plain": [
       "<IPython.core.display.Math object>"
      ]
     },
     "metadata": {},
     "output_type": "display_data"
    },
    {
     "data": {
      "text/plain": [
       "'DONE!'"
      ]
     },
     "metadata": {},
     "output_type": "display_data"
    },
    {
     "data": {
      "text/latex": [
       "$\\displaystyle \\text{Compute} \\ \\hat{\\mathcal{X}}^+$"
      ],
      "text/plain": [
       "<IPython.core.display.Math object>"
      ]
     },
     "metadata": {},
     "output_type": "display_data"
    },
    {
     "data": {
      "text/plain": [
       "'DONE!'"
      ]
     },
     "metadata": {},
     "output_type": "display_data"
    },
    {
     "name": "stdout",
     "output_type": "stream",
     "text": [
      "-----------------------------------------------------------------\n",
      "Clustering\n",
      "-----------------------------------------------------------------\n",
      "-----------------------------------------------------------------\n",
      "Repêchage\n",
      "-----------------------------------------------------------------\n"
     ]
    },
    {
     "data": {
      "text/latex": [
       "$\\displaystyle \\text{Compute} \\ \\mathcal{Y}_\\alpha^{\\mathrm{anom}}$"
      ],
      "text/plain": [
       "<IPython.core.display.Math object>"
      ]
     },
     "metadata": {},
     "output_type": "display_data"
    },
    {
     "name": "stdout",
     "output_type": "stream",
     "text": [
      "alpha = 1\n"
     ]
    },
    {
     "data": {
      "text/plain": [
       "'DONE!'"
      ]
     },
     "metadata": {},
     "output_type": "display_data"
    },
    {
     "data": {
      "text/plain": [
       "'!!! No X-Overdensities found !!!'"
      ]
     },
     "metadata": {},
     "output_type": "display_data"
    },
    {
     "name": "stdout",
     "output_type": "stream",
     "text": [
      "-----------------------------------------------------------------\n",
      "Eagle...Soar!\n",
      "-----------------------------------------------------------------\n",
      "Compute the nearest neighbours\n",
      "KNN completed: 0.00 %\n",
      "KNN completed: 50.00 %\n",
      "-----------------------------------------------------------------\n",
      "Flagging of putative anomalous points\n",
      "-----------------------------------------------------------------\n"
     ]
    },
    {
     "data": {
      "text/latex": [
       "$\\displaystyle \\text{Compute} \\ \\mathcal{Y}^{+}$"
      ],
      "text/plain": [
       "<IPython.core.display.Math object>"
      ]
     },
     "metadata": {},
     "output_type": "display_data"
    },
    {
     "data": {
      "text/plain": [
       "'DONE!'"
      ]
     },
     "metadata": {},
     "output_type": "display_data"
    },
    {
     "data": {
      "text/latex": [
       "$\\displaystyle \\text{Compute} \\ \\mathcal{X}^{+}$"
      ],
      "text/plain": [
       "<IPython.core.display.Math object>"
      ]
     },
     "metadata": {},
     "output_type": "display_data"
    },
    {
     "data": {
      "text/plain": [
       "'DONE!'"
      ]
     },
     "metadata": {},
     "output_type": "display_data"
    },
    {
     "name": "stdout",
     "output_type": "stream",
     "text": [
      "-----------------------------------------------------------------\n",
      "Pruning via iterative density equalization (IDE)\n",
      "-----------------------------------------------------------------\n"
     ]
    },
    {
     "data": {
      "text/latex": [
       "$\\displaystyle \\text{Compute} \\ \\hat{\\mathcal{Y}}^+$"
      ],
      "text/plain": [
       "<IPython.core.display.Math object>"
      ]
     },
     "metadata": {},
     "output_type": "display_data"
    },
    {
     "data": {
      "text/plain": [
       "'DONE!'"
      ]
     },
     "metadata": {},
     "output_type": "display_data"
    },
    {
     "name": "stdout",
     "output_type": "stream",
     "text": [
      "-----------------------------------------------------------------\n",
      "Clustering\n",
      "-----------------------------------------------------------------\n",
      "-----------------------------------------------------------------\n",
      "Repêchage\n",
      "-----------------------------------------------------------------\n"
     ]
    },
    {
     "data": {
      "text/latex": [
       "$\\displaystyle \\text{Compute} \\ \\mathcal{Y}_\\alpha^{\\mathrm{anom}}$"
      ],
      "text/plain": [
       "<IPython.core.display.Math object>"
      ]
     },
     "metadata": {},
     "output_type": "display_data"
    },
    {
     "name": "stdout",
     "output_type": "stream",
     "text": [
      "alpha = 1\n"
     ]
    },
    {
     "data": {
      "text/plain": [
       "'DONE!'"
      ]
     },
     "metadata": {},
     "output_type": "display_data"
    },
    {
     "data": {
      "text/plain": [
       "'!!! No X-Overdensities found !!!'"
      ]
     },
     "metadata": {},
     "output_type": "display_data"
    },
    {
     "name": "stdout",
     "output_type": "stream",
     "text": [
      "-----------------------------------------------------------------\n",
      "Eagle...Soar!\n",
      "-----------------------------------------------------------------\n",
      "Compute the nearest neighbours\n",
      "KNN completed: 0.00 %\n",
      "KNN completed: 50.00 %\n",
      "-----------------------------------------------------------------\n",
      "Flagging of putative anomalous points\n",
      "-----------------------------------------------------------------\n"
     ]
    },
    {
     "data": {
      "text/latex": [
       "$\\displaystyle \\text{Compute} \\ \\mathcal{Y}^{+}$"
      ],
      "text/plain": [
       "<IPython.core.display.Math object>"
      ]
     },
     "metadata": {},
     "output_type": "display_data"
    },
    {
     "data": {
      "text/plain": [
       "'DONE!'"
      ]
     },
     "metadata": {},
     "output_type": "display_data"
    },
    {
     "data": {
      "text/latex": [
       "$\\displaystyle \\text{Compute} \\ \\mathcal{X}^{+}$"
      ],
      "text/plain": [
       "<IPython.core.display.Math object>"
      ]
     },
     "metadata": {},
     "output_type": "display_data"
    },
    {
     "data": {
      "text/plain": [
       "'DONE!'"
      ]
     },
     "metadata": {},
     "output_type": "display_data"
    },
    {
     "name": "stdout",
     "output_type": "stream",
     "text": [
      "-----------------------------------------------------------------\n",
      "Pruning via iterative density equalization (IDE)\n",
      "-----------------------------------------------------------------\n"
     ]
    },
    {
     "data": {
      "text/latex": [
       "$\\displaystyle \\text{Compute} \\ \\hat{\\mathcal{Y}}^+$"
      ],
      "text/plain": [
       "<IPython.core.display.Math object>"
      ]
     },
     "metadata": {},
     "output_type": "display_data"
    },
    {
     "data": {
      "text/plain": [
       "'DONE!'"
      ]
     },
     "metadata": {},
     "output_type": "display_data"
    },
    {
     "name": "stdout",
     "output_type": "stream",
     "text": [
      "-----------------------------------------------------------------\n",
      "Clustering\n",
      "-----------------------------------------------------------------\n",
      "-----------------------------------------------------------------\n",
      "Repêchage\n",
      "-----------------------------------------------------------------\n"
     ]
    },
    {
     "data": {
      "text/latex": [
       "$\\displaystyle \\text{Compute} \\ \\mathcal{Y}_\\alpha^{\\mathrm{anom}}$"
      ],
      "text/plain": [
       "<IPython.core.display.Math object>"
      ]
     },
     "metadata": {},
     "output_type": "display_data"
    },
    {
     "name": "stdout",
     "output_type": "stream",
     "text": [
      "alpha = 1\n"
     ]
    },
    {
     "data": {
      "text/plain": [
       "'DONE!'"
      ]
     },
     "metadata": {},
     "output_type": "display_data"
    },
    {
     "data": {
      "text/plain": [
       "'!!! No X-Overdensities found !!!'"
      ]
     },
     "metadata": {},
     "output_type": "display_data"
    },
    {
     "name": "stdout",
     "output_type": "stream",
     "text": [
      "Computed p-values for k=220\n",
      "Computed p-values for k=221\n",
      "Computed p-values for k=222\n",
      "Computed p-values for k=223\n",
      "Computed p-values for k=224\n",
      "Computed p-values for k=225\n",
      "Computed p-values for k=226\n",
      "Computed p-values for k=227\n",
      "Computed p-values for k=228\n",
      "Computed p-values for k=229\n",
      "Computed p-values for k=230\n",
      "Computed p-values for k=231\n",
      "Computed p-values for k=232\n",
      "Computed p-values for k=233\n",
      "Computed p-values for k=234\n",
      "Computed p-values for k=235\n",
      "Computed p-values for k=236\n",
      "Computed p-values for k=237\n",
      "Computed p-values for k=238\n",
      "Computed p-values for k=239\n",
      "Computed p-values for k=240\n",
      "Computed p-values for k=241\n",
      "Computed p-values for k=242\n",
      "Computed p-values for k=243\n",
      "Computed p-values for k=244\n",
      "Computed p-values for k=245\n",
      "Computed p-values for k=246\n",
      "Computed p-values for k=247\n",
      "Computed p-values for k=248\n",
      "Computed p-values for k=249\n",
      "Computed p-values for k=250\n",
      "Computed p-values for k=251\n",
      "Computed p-values for k=252\n",
      "Computed p-values for k=253\n",
      "Computed p-values for k=254\n",
      "Computed p-values for k=255\n",
      "Computed p-values for k=256\n",
      "Computed p-values for k=257\n",
      "Computed p-values for k=258\n",
      "Computed p-values for k=259\n",
      "Computed p-values for k=260\n",
      "Computed p-values for k=261\n",
      "Computed p-values for k=262\n",
      "Computed p-values for k=263\n",
      "Computed p-values for k=264\n",
      "Computed p-values for k=265\n",
      "Computed p-values for k=266\n",
      "Computed p-values for k=267\n",
      "Computed p-values for k=268\n",
      "Computed p-values for k=269\n",
      "Computed p-values for k=270\n",
      "Computed p-values for k=271\n",
      "Computed p-values for k=272\n",
      "Computed p-values for k=273\n",
      "Computed p-values for k=274\n",
      "Computed p-values for k=275\n",
      "Computed p-values for k=276\n",
      "Computed p-values for k=277\n",
      "Computed p-values for k=278\n",
      "Computed p-values for k=279\n",
      "Computed p-values for k=280\n",
      "Computed p-values for k=281\n",
      "Computed p-values for k=282\n",
      "Computed p-values for k=283\n",
      "Computed p-values for k=284\n",
      "Computed p-values for k=285\n",
      "Computed p-values for k=286\n",
      "Computed p-values for k=287\n",
      "Computed p-values for k=288\n",
      "Computed p-values for k=289\n",
      "Computed p-values for k=290\n",
      "Computed p-values for k=291\n",
      "Computed p-values for k=292\n",
      "Computed p-values for k=293\n",
      "Computed p-values for k=294\n",
      "Computed p-values for k=295\n",
      "Computed p-values for k=296\n",
      "Computed p-values for k=297\n",
      "Computed p-values for k=298\n",
      "Computed p-values for k=299\n",
      "Computed p-values for k=300\n",
      "Computed p-values for k=301\n",
      "Computed p-values for k=302\n",
      "Computed p-values for k=303\n",
      "Computed p-values for k=304\n",
      "Computed p-values for k=305\n",
      "Computed p-values for k=306\n",
      "Computed p-values for k=307\n",
      "Computed p-values for k=308\n",
      "Computed p-values for k=309\n",
      "Computed p-values for k=310\n",
      "Computed p-values for k=311\n",
      "Computed p-values for k=312\n",
      "Computed p-values for k=313\n",
      "Computed p-values for k=314\n",
      "Computed p-values for k=315\n",
      "Computed p-values for k=316\n",
      "Computed p-values for k=317\n",
      "Computed p-values for k=318\n",
      "Computed p-values for k=319\n",
      "Computed p-values for k=320\n",
      "Computed p-values for k=321\n",
      "Computed p-values for k=322\n",
      "Computed p-values for k=323\n",
      "Computed p-values for k=324\n",
      "Computed p-values for k=325\n",
      "Computed p-values for k=326\n",
      "Computed p-values for k=327\n",
      "Computed p-values for k=328\n",
      "Computed p-values for k=329\n",
      "Computed p-values for k=330\n",
      "Computed p-values for k=331\n",
      "Computed p-values for k=332\n",
      "Computed p-values for k=333\n",
      "Computed p-values for k=334\n",
      "Computed p-values for k=335\n",
      "Computed p-values for k=336\n",
      "Computed p-values for k=337\n",
      "Computed p-values for k=338\n",
      "Computed p-values for k=339\n",
      "Computed p-values for k=340\n",
      "Computed p-values for k=341\n",
      "Computed p-values for k=342\n",
      "Computed p-values for k=343\n",
      "Computed p-values for k=344\n",
      "Computed p-values for k=345\n",
      "Computed p-values for k=346\n",
      "Computed p-values for k=347\n",
      "Computed p-values for k=348\n",
      "Computed p-values for k=349\n",
      "Computed p-values for k=350\n",
      "Computed p-values for k=351\n",
      "Computed p-values for k=352\n",
      "Computed p-values for k=353\n",
      "Computed p-values for k=354\n",
      "Computed p-values for k=355\n",
      "Computed p-values for k=356\n",
      "Computed p-values for k=357\n",
      "Computed p-values for k=358\n",
      "Computed p-values for k=359\n",
      "Computed p-values for k=360\n",
      "Computed p-values for k=361\n",
      "Computed p-values for k=362\n",
      "Computed p-values for k=363\n",
      "Computed p-values for k=364\n",
      "Computed p-values for k=365\n",
      "Computed p-values for k=366\n",
      "Computed p-values for k=367\n",
      "Computed p-values for k=368\n",
      "Computed p-values for k=369\n",
      "Computed p-values for k=370\n",
      "Computed p-values for k=371\n",
      "Computed p-values for k=372\n",
      "Computed p-values for k=373\n",
      "Computed p-values for k=374\n",
      "Computed p-values for k=375\n",
      "Computed p-values for k=376\n",
      "Computed p-values for k=377\n",
      "Computed p-values for k=378\n",
      "Computed p-values for k=379\n",
      "Computed p-values for k=380\n",
      "Computed p-values for k=381\n",
      "Computed p-values for k=382\n",
      "Computed p-values for k=383\n",
      "Computed p-values for k=384\n",
      "Computed p-values for k=385\n",
      "Computed p-values for k=386\n",
      "Computed p-values for k=387\n",
      "Computed p-values for k=388\n",
      "Computed p-values for k=389\n",
      "Computed p-values for k=390\n",
      "Computed p-values for k=391\n",
      "Computed p-values for k=392\n",
      "Computed p-values for k=393\n",
      "Computed p-values for k=394\n",
      "Computed p-values for k=395\n",
      "Computed p-values for k=396\n",
      "Computed p-values for k=397\n",
      "Computed p-values for k=398\n",
      "Computed p-values for k=399\n",
      "Computed p-values for k=400\n",
      "Computed p-values for k=401\n",
      "Computed p-values for k=402\n",
      "Computed p-values for k=403\n",
      "Computed p-values for k=404\n",
      "Computed p-values for k=405\n",
      "Computed p-values for k=406\n",
      "Computed p-values for k=407\n",
      "Computed p-values for k=408\n",
      "Computed p-values for k=409\n",
      "Computed p-values for k=410\n",
      "Computed p-values for k=411\n",
      "Computed p-values for k=412\n",
      "Computed p-values for k=413\n",
      "Computed p-values for k=414\n",
      "Computed p-values for k=415\n",
      "Computed p-values for k=416\n",
      "Computed p-values for k=417\n",
      "Computed p-values for k=418\n",
      "Computed p-values for k=419\n",
      "Computed p-values for k=420\n",
      "Computed p-values for k=421\n",
      "Computed p-values for k=422\n",
      "Computed p-values for k=423\n",
      "Computed p-values for k=424\n",
      "Computed p-values for k=425\n",
      "Computed p-values for k=426\n",
      "Computed p-values for k=427\n",
      "Computed p-values for k=428\n",
      "Computed p-values for k=429\n",
      "Computed p-values for k=430\n",
      "Computed p-values for k=431\n",
      "Computed p-values for k=432\n",
      "Computed p-values for k=433\n",
      "Computed p-values for k=434\n",
      "Computed p-values for k=435\n",
      "Computed p-values for k=436\n",
      "Computed p-values for k=437\n",
      "Computed p-values for k=438\n",
      "Computed p-values for k=439\n",
      "Computed p-values for k=440\n",
      "Computed p-values for k=441\n",
      "Computed p-values for k=442\n",
      "Computed p-values for k=443\n",
      "Computed p-values for k=444\n",
      "Computed p-values for k=445\n",
      "Computed p-values for k=446\n",
      "Computed p-values for k=447\n",
      "Computed p-values for k=448\n",
      "Computed p-values for k=449\n",
      "Computed p-values for k=450\n",
      "Computed p-values for k=451\n",
      "Computed p-values for k=452\n",
      "Computed p-values for k=453\n",
      "Computed p-values for k=454\n",
      "Computed p-values for k=455\n",
      "Computed p-values for k=456\n",
      "Computed p-values for k=457\n",
      "Computed p-values for k=458\n",
      "Computed p-values for k=459\n",
      "Computed p-values for k=460\n",
      "Computed p-values for k=461\n",
      "Computed p-values for k=462\n",
      "Computed p-values for k=463\n",
      "Computed p-values for k=464\n",
      "Computed p-values for k=465\n",
      "Computed p-values for k=466\n",
      "Computed p-values for k=467\n",
      "Computed p-values for k=468\n",
      "Computed p-values for k=469\n",
      "Computed p-values for k=470\n",
      "Computed p-values for k=471\n",
      "Computed p-values for k=472\n",
      "Computed p-values for k=473\n",
      "Computed p-values for k=474\n",
      "Computed p-values for k=475\n",
      "Computed p-values for k=476\n",
      "Computed p-values for k=477\n",
      "Computed p-values for k=478\n",
      "Computed p-values for k=479\n",
      "Computed p-values for k=480\n",
      "Computed p-values for k=481\n",
      "Computed p-values for k=482\n",
      "Computed p-values for k=483\n",
      "Computed p-values for k=484\n",
      "Computed p-values for k=485\n",
      "Computed p-values for k=486\n",
      "Computed p-values for k=487\n",
      "Computed p-values for k=488\n",
      "Computed p-values for k=489\n",
      "Computed p-values for k=490\n",
      "Computed p-values for k=491\n",
      "Computed p-values for k=492\n",
      "Computed p-values for k=493\n",
      "Computed p-values for k=494\n",
      "Computed p-values for k=495\n",
      "Computed p-values for k=496\n",
      "Computed p-values for k=497\n",
      "Computed p-values for k=498\n",
      "Computed p-values for k=499\n",
      "Compute underdensities\n",
      "Validation size is:  10000\n",
      "Computed p-values for k=20\n",
      "Computed p-values for k=21\n",
      "Computed p-values for k=22\n",
      "Computed p-values for k=23\n",
      "Computed p-values for k=24\n",
      "Computed p-values for k=25\n",
      "Computed p-values for k=26\n",
      "Computed p-values for k=27\n",
      "Computed p-values for k=28\n",
      "Computed p-values for k=29\n",
      "Computed p-values for k=30\n",
      "Computed p-values for k=31\n",
      "Computed p-values for k=32\n",
      "Computed p-values for k=33\n",
      "Computed p-values for k=34\n",
      "Computed p-values for k=35\n",
      "Computed p-values for k=36\n",
      "Computed p-values for k=37\n",
      "Computed p-values for k=38\n",
      "Computed p-values for k=39\n",
      "Computed p-values for k=40\n",
      "Computed p-values for k=41\n",
      "Computed p-values for k=42\n",
      "Computed p-values for k=43\n",
      "Computed p-values for k=44\n",
      "Computed p-values for k=45\n",
      "Computed p-values for k=46\n",
      "Computed p-values for k=47\n",
      "Computed p-values for k=48\n"
     ]
    },
    {
     "name": "stdout",
     "output_type": "stream",
     "text": [
      "Computed p-values for k=49\n",
      "Computed p-values for k=50\n",
      "Computed p-values for k=51\n",
      "Computed p-values for k=52\n",
      "Computed p-values for k=53\n",
      "Computed p-values for k=54\n",
      "Computed p-values for k=55\n",
      "Computed p-values for k=56\n",
      "Computed p-values for k=57\n",
      "Computed p-values for k=58\n",
      "Computed p-values for k=59\n",
      "Computed p-values for k=60\n",
      "Computed p-values for k=61\n",
      "Computed p-values for k=62\n",
      "Computed p-values for k=63\n",
      "Computed p-values for k=64\n",
      "Computed p-values for k=65\n",
      "Computed p-values for k=66\n",
      "Computed p-values for k=67\n",
      "Computed p-values for k=68\n",
      "Computed p-values for k=69\n",
      "Computed p-values for k=70\n",
      "Computed p-values for k=71\n",
      "Computed p-values for k=72\n",
      "Computed p-values for k=73\n",
      "Computed p-values for k=74\n",
      "Computed p-values for k=75\n",
      "Computed p-values for k=76\n",
      "Computed p-values for k=77\n",
      "Computed p-values for k=78\n",
      "Computed p-values for k=79\n",
      "Computed p-values for k=80\n",
      "Computed p-values for k=81\n",
      "Computed p-values for k=82\n",
      "Computed p-values for k=83\n",
      "Computed p-values for k=84\n",
      "Computed p-values for k=85\n",
      "Computed p-values for k=86\n",
      "Computed p-values for k=87\n",
      "Computed p-values for k=88\n",
      "Computed p-values for k=89\n",
      "Computed p-values for k=90\n",
      "Computed p-values for k=91\n",
      "Computed p-values for k=92\n",
      "Computed p-values for k=93\n",
      "Computed p-values for k=94\n",
      "Computed p-values for k=95\n",
      "Computed p-values for k=96\n",
      "Computed p-values for k=97\n",
      "Computed p-values for k=98\n",
      "Computed p-values for k=99\n",
      "Computed p-values for k=100\n",
      "Computed p-values for k=101\n",
      "Computed p-values for k=102\n",
      "Computed p-values for k=103\n",
      "Computed p-values for k=104\n",
      "Computed p-values for k=105\n",
      "Computed p-values for k=106\n",
      "Computed p-values for k=107\n",
      "Computed p-values for k=108\n",
      "Computed p-values for k=109\n",
      "Computed p-values for k=110\n",
      "Computed p-values for k=111\n",
      "Computed p-values for k=112\n",
      "Computed p-values for k=113\n",
      "Computed p-values for k=114\n",
      "Computed p-values for k=115\n",
      "Computed p-values for k=116\n",
      "Computed p-values for k=117\n",
      "Computed p-values for k=118\n",
      "Computed p-values for k=119\n",
      "Computed p-values for k=120\n",
      "Computed p-values for k=121\n",
      "Computed p-values for k=122\n",
      "Computed p-values for k=123\n",
      "Computed p-values for k=124\n",
      "Computed p-values for k=125\n",
      "Computed p-values for k=126\n",
      "Computed p-values for k=127\n",
      "Computed p-values for k=128\n",
      "Computed p-values for k=129\n",
      "Computed p-values for k=130\n",
      "Computed p-values for k=131\n",
      "Computed p-values for k=132\n",
      "Computed p-values for k=133\n",
      "Computed p-values for k=134\n",
      "Computed p-values for k=135\n",
      "Computed p-values for k=136\n",
      "Computed p-values for k=137\n",
      "Computed p-values for k=138\n",
      "Computed p-values for k=139\n",
      "Computed p-values for k=140\n",
      "Computed p-values for k=141\n",
      "Computed p-values for k=142\n",
      "Computed p-values for k=143\n",
      "Computed p-values for k=144\n",
      "Computed p-values for k=145\n",
      "Computed p-values for k=146\n",
      "Computed p-values for k=147\n",
      "Computed p-values for k=148\n",
      "Computed p-values for k=149\n",
      "Computed p-values for k=150\n",
      "Computed p-values for k=151\n",
      "Computed p-values for k=152\n",
      "Computed p-values for k=153\n",
      "Computed p-values for k=154\n",
      "Computed p-values for k=155\n",
      "Computed p-values for k=156\n",
      "Computed p-values for k=157\n",
      "Computed p-values for k=158\n",
      "Computed p-values for k=159\n",
      "Computed p-values for k=160\n",
      "Computed p-values for k=161\n",
      "Computed p-values for k=162\n",
      "Computed p-values for k=163\n",
      "Computed p-values for k=164\n",
      "Computed p-values for k=165\n",
      "Computed p-values for k=166\n",
      "Computed p-values for k=167\n",
      "Computed p-values for k=168\n",
      "Computed p-values for k=169\n",
      "Computed p-values for k=170\n",
      "Computed p-values for k=171\n",
      "Computed p-values for k=172\n",
      "Computed p-values for k=173\n",
      "Computed p-values for k=174\n",
      "Computed p-values for k=175\n",
      "Computed p-values for k=176\n",
      "Computed p-values for k=177\n",
      "Computed p-values for k=178\n",
      "Computed p-values for k=179\n",
      "Computed p-values for k=180\n",
      "Computed p-values for k=181\n",
      "Computed p-values for k=182\n",
      "Computed p-values for k=183\n",
      "Computed p-values for k=184\n",
      "Computed p-values for k=185\n",
      "Computed p-values for k=186\n",
      "Computed p-values for k=187\n",
      "Computed p-values for k=188\n",
      "Computed p-values for k=189\n",
      "Computed p-values for k=190\n",
      "Computed p-values for k=191\n",
      "Computed p-values for k=192\n",
      "Computed p-values for k=193\n",
      "Computed p-values for k=194\n",
      "Computed p-values for k=195\n",
      "Computed p-values for k=196\n",
      "Computed p-values for k=197\n",
      "Computed p-values for k=198\n",
      "Computed p-values for k=199\n",
      "Computed p-values for k=200\n",
      "Computed p-values for k=201\n",
      "Computed p-values for k=202\n",
      "Computed p-values for k=203\n",
      "Computed p-values for k=204\n",
      "Computed p-values for k=205\n",
      "Computed p-values for k=206\n",
      "Computed p-values for k=207\n",
      "Computed p-values for k=208\n",
      "Computed p-values for k=209\n",
      "Computed p-values for k=210\n",
      "Computed p-values for k=211\n",
      "Computed p-values for k=212\n",
      "Computed p-values for k=213\n",
      "Computed p-values for k=214\n",
      "Computed p-values for k=215\n",
      "Computed p-values for k=216\n",
      "Computed p-values for k=217\n",
      "Computed p-values for k=218\n",
      "Computed p-values for k=219\n",
      "Computed p-values for k=220\n",
      "Computed p-values for k=221\n",
      "Computed p-values for k=222\n",
      "Computed p-values for k=223\n",
      "Computed p-values for k=224\n",
      "Computed p-values for k=225\n",
      "Computed p-values for k=226\n",
      "Computed p-values for k=227\n",
      "Computed p-values for k=228\n",
      "Computed p-values for k=229\n",
      "Computed p-values for k=230\n",
      "Computed p-values for k=231\n",
      "Computed p-values for k=232\n",
      "Computed p-values for k=233\n",
      "Computed p-values for k=234\n",
      "Computed p-values for k=235\n",
      "Computed p-values for k=236\n",
      "Computed p-values for k=237\n",
      "Computed p-values for k=238\n",
      "Computed p-values for k=239\n",
      "Computed p-values for k=240\n",
      "Computed p-values for k=241\n",
      "Computed p-values for k=242\n",
      "Computed p-values for k=243\n",
      "Computed p-values for k=244\n",
      "Computed p-values for k=245\n",
      "Computed p-values for k=246\n",
      "Computed p-values for k=247\n",
      "Computed p-values for k=248\n",
      "Computed p-values for k=249\n",
      "Computed p-values for k=250\n",
      "Computed p-values for k=251\n",
      "Computed p-values for k=252\n",
      "Computed p-values for k=253\n",
      "Computed p-values for k=254\n",
      "Computed p-values for k=255\n",
      "Computed p-values for k=256\n",
      "Computed p-values for k=257\n",
      "Computed p-values for k=258\n",
      "Computed p-values for k=259\n",
      "Computed p-values for k=260\n",
      "Computed p-values for k=261\n",
      "Computed p-values for k=262\n",
      "Computed p-values for k=263\n",
      "Computed p-values for k=264\n",
      "Computed p-values for k=265\n",
      "Computed p-values for k=266\n",
      "Computed p-values for k=267\n",
      "Computed p-values for k=268\n",
      "Computed p-values for k=269\n",
      "Computed p-values for k=270\n",
      "Computed p-values for k=271\n",
      "Computed p-values for k=272\n",
      "Computed p-values for k=273\n",
      "Computed p-values for k=274\n",
      "Computed p-values for k=275\n",
      "Computed p-values for k=276\n",
      "Computed p-values for k=277\n",
      "Computed p-values for k=278\n",
      "Computed p-values for k=279\n",
      "Computed p-values for k=280\n",
      "Computed p-values for k=281\n",
      "Computed p-values for k=282\n",
      "Computed p-values for k=283\n",
      "Computed p-values for k=284\n",
      "Computed p-values for k=285\n",
      "Computed p-values for k=286\n",
      "Computed p-values for k=287\n",
      "Computed p-values for k=288\n",
      "Computed p-values for k=289\n",
      "Computed p-values for k=290\n",
      "Computed p-values for k=291\n",
      "Computed p-values for k=292\n",
      "Computed p-values for k=293\n",
      "Computed p-values for k=294\n",
      "Computed p-values for k=295\n",
      "Computed p-values for k=296\n",
      "Computed p-values for k=297\n",
      "Computed p-values for k=298\n",
      "Computed p-values for k=299\n",
      "Computed p-values for k=300\n",
      "Computed p-values for k=301\n",
      "Computed p-values for k=302\n",
      "Computed p-values for k=303\n",
      "Computed p-values for k=304\n",
      "Computed p-values for k=305\n",
      "Computed p-values for k=306\n",
      "Computed p-values for k=307\n",
      "Computed p-values for k=308\n",
      "Computed p-values for k=309\n",
      "Computed p-values for k=310\n",
      "Computed p-values for k=311\n",
      "Computed p-values for k=312\n",
      "Computed p-values for k=313\n",
      "Computed p-values for k=314\n",
      "Computed p-values for k=315\n",
      "Computed p-values for k=316\n",
      "Computed p-values for k=317\n",
      "Computed p-values for k=318\n",
      "Computed p-values for k=319\n",
      "Computed p-values for k=320\n",
      "Computed p-values for k=321\n",
      "Computed p-values for k=322\n",
      "Computed p-values for k=323\n",
      "Computed p-values for k=324\n",
      "Computed p-values for k=325\n",
      "Computed p-values for k=326\n",
      "Computed p-values for k=327\n",
      "Computed p-values for k=328\n",
      "Computed p-values for k=329\n",
      "Computed p-values for k=330\n",
      "Computed p-values for k=331\n",
      "Computed p-values for k=332\n",
      "Computed p-values for k=333\n",
      "Computed p-values for k=334\n",
      "Computed p-values for k=335\n",
      "Computed p-values for k=336\n",
      "Computed p-values for k=337\n",
      "Computed p-values for k=338\n",
      "Computed p-values for k=339\n",
      "Computed p-values for k=340\n",
      "Computed p-values for k=341\n",
      "Computed p-values for k=342\n",
      "Computed p-values for k=343\n",
      "Computed p-values for k=344\n",
      "Computed p-values for k=345\n",
      "Computed p-values for k=346\n",
      "Computed p-values for k=347\n",
      "Computed p-values for k=348\n",
      "Computed p-values for k=349\n",
      "Computed p-values for k=350\n",
      "Computed p-values for k=351\n",
      "Computed p-values for k=352\n",
      "Computed p-values for k=353\n",
      "Computed p-values for k=354\n",
      "Computed p-values for k=355\n",
      "Computed p-values for k=356\n",
      "Computed p-values for k=357\n",
      "Computed p-values for k=358\n",
      "Computed p-values for k=359\n",
      "Computed p-values for k=360\n",
      "Computed p-values for k=361\n",
      "Computed p-values for k=362\n",
      "Computed p-values for k=363\n",
      "Computed p-values for k=364\n",
      "Computed p-values for k=365\n"
     ]
    },
    {
     "name": "stdout",
     "output_type": "stream",
     "text": [
      "Computed p-values for k=366\n",
      "Computed p-values for k=367\n",
      "Computed p-values for k=368\n",
      "Computed p-values for k=369\n",
      "Computed p-values for k=370\n",
      "Computed p-values for k=371\n",
      "Computed p-values for k=372\n",
      "Computed p-values for k=373\n",
      "Computed p-values for k=374\n",
      "Computed p-values for k=375\n",
      "Computed p-values for k=376\n",
      "Computed p-values for k=377\n",
      "Computed p-values for k=378\n",
      "Computed p-values for k=379\n",
      "Computed p-values for k=380\n",
      "Computed p-values for k=381\n",
      "Computed p-values for k=382\n",
      "Computed p-values for k=383\n",
      "Computed p-values for k=384\n",
      "Computed p-values for k=385\n",
      "Computed p-values for k=386\n",
      "Computed p-values for k=387\n",
      "Computed p-values for k=388\n",
      "Computed p-values for k=389\n",
      "Computed p-values for k=390\n",
      "Computed p-values for k=391\n",
      "Computed p-values for k=392\n",
      "Computed p-values for k=393\n",
      "Computed p-values for k=394\n",
      "Computed p-values for k=395\n",
      "Computed p-values for k=396\n",
      "Computed p-values for k=397\n",
      "Computed p-values for k=398\n",
      "Computed p-values for k=399\n",
      "Computed p-values for k=400\n",
      "Computed p-values for k=401\n",
      "Computed p-values for k=402\n",
      "Computed p-values for k=403\n",
      "Computed p-values for k=404\n",
      "Computed p-values for k=405\n",
      "Computed p-values for k=406\n",
      "Computed p-values for k=407\n",
      "Computed p-values for k=408\n",
      "Computed p-values for k=409\n",
      "Computed p-values for k=410\n",
      "Computed p-values for k=411\n",
      "Computed p-values for k=412\n",
      "Computed p-values for k=413\n",
      "Computed p-values for k=414\n",
      "Computed p-values for k=415\n",
      "Computed p-values for k=416\n",
      "Computed p-values for k=417\n",
      "Computed p-values for k=418\n",
      "Computed p-values for k=419\n",
      "Computed p-values for k=420\n",
      "Computed p-values for k=421\n",
      "Computed p-values for k=422\n",
      "Computed p-values for k=423\n",
      "Computed p-values for k=424\n",
      "Computed p-values for k=425\n",
      "Computed p-values for k=426\n",
      "Computed p-values for k=427\n",
      "Computed p-values for k=428\n",
      "Computed p-values for k=429\n",
      "Computed p-values for k=430\n",
      "Computed p-values for k=431\n",
      "Computed p-values for k=432\n",
      "Computed p-values for k=433\n",
      "Computed p-values for k=434\n",
      "Computed p-values for k=435\n",
      "Computed p-values for k=436\n",
      "Computed p-values for k=437\n",
      "Computed p-values for k=438\n",
      "Computed p-values for k=439\n",
      "Computed p-values for k=440\n",
      "Computed p-values for k=441\n",
      "Computed p-values for k=442\n",
      "Computed p-values for k=443\n",
      "Computed p-values for k=444\n",
      "Computed p-values for k=445\n",
      "Computed p-values for k=446\n",
      "Computed p-values for k=447\n",
      "Computed p-values for k=448\n",
      "Computed p-values for k=449\n",
      "Computed p-values for k=450\n",
      "Computed p-values for k=451\n",
      "Computed p-values for k=452\n",
      "Computed p-values for k=453\n",
      "Computed p-values for k=454\n",
      "Computed p-values for k=455\n",
      "Computed p-values for k=456\n",
      "Computed p-values for k=457\n",
      "Computed p-values for k=458\n",
      "Computed p-values for k=459\n",
      "Computed p-values for k=460\n",
      "Computed p-values for k=461\n",
      "Computed p-values for k=462\n",
      "Computed p-values for k=463\n",
      "Computed p-values for k=464\n",
      "Computed p-values for k=465\n",
      "Computed p-values for k=466\n",
      "Computed p-values for k=467\n",
      "Computed p-values for k=468\n",
      "Computed p-values for k=469\n",
      "Computed p-values for k=470\n",
      "Computed p-values for k=471\n",
      "Computed p-values for k=472\n",
      "Computed p-values for k=473\n",
      "Computed p-values for k=474\n",
      "Computed p-values for k=475\n",
      "Computed p-values for k=476\n",
      "Computed p-values for k=477\n",
      "Computed p-values for k=478\n",
      "Computed p-values for k=479\n",
      "Computed p-values for k=480\n",
      "Computed p-values for k=481\n",
      "Computed p-values for k=482\n",
      "Computed p-values for k=483\n",
      "Computed p-values for k=484\n",
      "Computed p-values for k=485\n",
      "Computed p-values for k=486\n",
      "Computed p-values for k=487\n",
      "Computed p-values for k=488\n",
      "Computed p-values for k=489\n",
      "Computed p-values for k=490\n",
      "Computed p-values for k=491\n",
      "Computed p-values for k=492\n",
      "Computed p-values for k=493\n",
      "Computed p-values for k=494\n",
      "Computed p-values for k=495\n",
      "Computed p-values for k=496\n",
      "Computed p-values for k=497\n",
      "Computed p-values for k=498\n",
      "Computed p-values for k=499\n",
      "Computing unique elements for quantile/s.\n",
      "The smallest value of Upsilon_star_plus is less than the smallest key in unique_elements_dict.\n",
      "Max Upsilon remained: 310.9453591994508\n",
      "The smallest value of Upsilon_star_plus is less than the smallest key in unique_elements_dict.\n",
      "Max Upsilon remained: 15.563926513644223\n",
      "Max Upsilon remained: -1.0\n",
      "\n",
      "Shapes of result_dict keys:\n",
      "Key                            Shape          \n",
      "---------------------------------------------\n",
      "Upsilon_star_plus              (1,)           \n",
      "Upsilon_star_minus             (1,)           \n",
      "critical_quantiles             (1,)           \n",
      "Upsilon_i_plus_null            (500000,)      \n",
      "Upsilon_i_minus_null           (500000,)      \n",
      "stats                          dict           \n",
      "  Upsilon_i_minus              (10000,)       \n",
      "  kstar_minus                  (10000,)       \n",
      "  Upsilon_i_plus               (10000,)       \n",
      "  kstar_plus                   (10000,)       \n",
      "  Upsilon_i_Val_minus          (10000,)       \n",
      "  kstar_Val_minus              (10000,)       \n",
      "  Upsilon_i_Val_plus           (10000,)       \n",
      "  kstar_Val_plus               (10000,)       \n",
      "stats_reverse                  dict           \n",
      "  Upsilon_i_minus              (10000,)       \n",
      "  kstar_minus                  (10000,)       \n",
      "  Upsilon_i_plus               (10000,)       \n",
      "  kstar_plus                   (10000,)       \n",
      "  Upsilon_i_Val_minus          (10000,)       \n",
      "  kstar_Val_minus              (10000,)       \n",
      "  Upsilon_i_Val_plus           (10000,)       \n",
      "  kstar_Val_plus               (10000,)       \n",
      "unique_elements_overdensities  dict           \n",
      "  345.8804430994127            (986,)         \n",
      "unique_elements_underdensities dict           \n",
      "  15.612628306510615           (1,)           \n",
      "  -1.0                         (1,)           \n",
      "overdensities                  dict           \n",
      "  0.999999                     (986,)         \n",
      "underdensities                 dict           \n",
      "  0.999999                     N/A            \n",
      "Computation of distances started\n",
      "Computation of the distances up to 500 NNs started\n"
     ]
    },
    {
     "name": "stderr",
     "output_type": "stream",
     "text": [
      "Exception ignored on calling ctypes callback function: <function _ThreadpoolInfo._find_modules_with_dl_iterate_phdr.<locals>.match_module_callback at 0x7f4f8881b1a0>\n",
      "Traceback (most recent call last):\n",
      "  File \"/u/s/sspringe/anaconda3/lib/python3.11/site-packages/threadpoolctl.py\", line 400, in match_module_callback\n",
      "    self._make_module_from_path(filepath)\n",
      "  File \"/u/s/sspringe/anaconda3/lib/python3.11/site-packages/threadpoolctl.py\", line 515, in _make_module_from_path\n",
      "    module = module_class(filepath, prefix, user_api, internal_api)\n",
      "             ^^^^^^^^^^^^^^^^^^^^^^^^^^^^^^^^^^^^^^^^^^^^^^^^^^^^^^\n",
      "  File \"/u/s/sspringe/anaconda3/lib/python3.11/site-packages/threadpoolctl.py\", line 606, in __init__\n",
      "    self.version = self.get_version()\n",
      "                   ^^^^^^^^^^^^^^^^^^\n",
      "  File \"/u/s/sspringe/anaconda3/lib/python3.11/site-packages/threadpoolctl.py\", line 646, in get_version\n",
      "    config = get_config().split()\n",
      "             ^^^^^^^^^^^^^^^^^^\n",
      "AttributeError: 'NoneType' object has no attribute 'split'\n"
     ]
    },
    {
     "name": "stdout",
     "output_type": "stream",
     "text": [
      "0.53 seconds for computing distances\n",
      "ID estimation finished: selecting ID of [9.26]\n",
      "kstar estimation started, Dthr = 23.92812698\n",
      "0.01 seconds computing kstar\n",
      "kstar-NN density estimation started\n",
      "k-NN density estimation finished\n",
      "Clustering started\n",
      "init succeded\n",
      "Raw identification of the putative centers:  0.000 sec\n",
      "Further checking on centers:  0.001 sec \n",
      "Pruning of the centers wrongly identified in part one:  0.000 sec\n",
      "Preliminary assignation finished:  0.003 sec\n",
      "('Number of clusters before multimodality test=', 13)\n",
      "Identification of the saddle points:  0.008 sec\n",
      "Multimodality test finished:  0.000 sec\n",
      "Final operations: 0.00022220611572265625 sec\n",
      "Clustering finished, 1 clusters found\n",
      "total time is, 0.01372671127319336\n",
      "Computation of distances started\n",
      "Computation of the distances up to 4 NNs started\n",
      "0.01 seconds for computing distances\n",
      "ID estimation finished: selecting ID of [3.7]\n",
      "kstar estimation started, Dthr = 23.92812698\n",
      "0.00 seconds computing kstar\n",
      "kstar-NN density estimation started\n",
      "k-NN density estimation finished\n",
      "Clustering started\n",
      "init succeded\n",
      "Raw identification of the putative centers:  0.000 sec\n",
      "Further checking on centers:  0.000 sec \n",
      "Pruning of the centers wrongly identified in part one:  0.000 sec\n",
      "Preliminary assignation finished:  0.000 sec\n",
      "('Number of clusters before multimodality test=', 1)\n",
      "Identification of the saddle points:  0.000 sec\n",
      "Multimodality test finished:  0.000 sec\n",
      "Final operations: 1.2636184692382812e-05 sec\n",
      "Clustering finished, 1 clusters found\n",
      "total time is, 0.00011348724365234375\n",
      "Number of clusters:  1\n",
      "Cluster number  1\n",
      "Number of clusters:  1\n"
     ]
    },
    {
     "ename": "TypeError",
     "evalue": "unhashable type: 'numpy.ndarray'",
     "output_type": "error",
     "traceback": [
      "\u001b[0;31m---------------------------------------------------------------------------\u001b[0m",
      "\u001b[0;31mTypeError\u001b[0m                                 Traceback (most recent call last)",
      "Cell \u001b[0;32mIn[9], line 41\u001b[0m\n\u001b[1;32m     39\u001b[0m clusters_G \u001b[38;5;241m=\u001b[39m EagleEye_v7\u001b[38;5;241m.\u001b[39mpartitian_function(reference_data,test_data_G,result_dictionary_G,result_dictionary_G[\u001b[38;5;124m'\u001b[39m\u001b[38;5;124mUpsilon_star_plus\u001b[39m\u001b[38;5;124m'\u001b[39m][qt], result_dictionary_G[\u001b[38;5;124m'\u001b[39m\u001b[38;5;124mUpsilon_star_minus\u001b[39m\u001b[38;5;124m'\u001b[39m][qt],K_M\u001b[38;5;241m=\u001b[39mK_M)\n\u001b[1;32m     40\u001b[0m \u001b[38;5;66;03m#%% # Creation of the dictionaries\u001b[39;00m\n\u001b[0;32m---> 41\u001b[0m IV_IE_dict_G \u001b[38;5;241m=\u001b[39m EagleEye_v7\u001b[38;5;241m.\u001b[39mIV_IE_get_dict(clusters_G,result_dictionary_G,[CRITICAL_QUANTILES[qt]],test_data_G,reference_data)\n\u001b[1;32m     44\u001b[0m results_10k[\u001b[38;5;124m'\u001b[39m\u001b[38;5;124mTorous\u001b[39m\u001b[38;5;124m'\u001b[39m][contamination_size][\u001b[38;5;124m'\u001b[39m\u001b[38;5;124mlen_From_test\u001b[39m\u001b[38;5;124m'\u001b[39m] \u001b[38;5;241m=\u001b[39m \u001b[38;5;28msum\u001b[39m(\u001b[38;5;28mlen\u001b[39m(IV_IE_dict[\u001b[38;5;124m'\u001b[39m\u001b[38;5;124mOVER_clusters\u001b[39m\u001b[38;5;124m'\u001b[39m][clust][\u001b[38;5;124m'\u001b[39m\u001b[38;5;124mFrom_test\u001b[39m\u001b[38;5;124m'\u001b[39m]) \u001b[38;5;28;01mif\u001b[39;00m IV_IE_dict[\u001b[38;5;124m'\u001b[39m\u001b[38;5;124mOVER_clusters\u001b[39m\u001b[38;5;124m'\u001b[39m][clust][\u001b[38;5;124m'\u001b[39m\u001b[38;5;124mFrom_test\u001b[39m\u001b[38;5;124m'\u001b[39m] \u001b[38;5;129;01mis\u001b[39;00m \u001b[38;5;129;01mnot\u001b[39;00m \u001b[38;5;28;01mNone\u001b[39;00m \u001b[38;5;28;01melse\u001b[39;00m \u001b[38;5;241m0\u001b[39m \u001b[38;5;28;01mfor\u001b[39;00m clust \u001b[38;5;129;01min\u001b[39;00m \u001b[38;5;28mrange\u001b[39m(\u001b[38;5;28mlen\u001b[39m(IV_IE_dict[\u001b[38;5;124m'\u001b[39m\u001b[38;5;124mOVER_clusters\u001b[39m\u001b[38;5;124m'\u001b[39m])))\n\u001b[1;32m     45\u001b[0m results_10k[\u001b[38;5;124m'\u001b[39m\u001b[38;5;124mTorous\u001b[39m\u001b[38;5;124m'\u001b[39m][contamination_size][\u001b[38;5;124m'\u001b[39m\u001b[38;5;124mlen_IE_extra\u001b[39m\u001b[38;5;124m'\u001b[39m]  \u001b[38;5;241m=\u001b[39m \u001b[38;5;28msum\u001b[39m(\u001b[38;5;28mlen\u001b[39m(IV_IE_dict[\u001b[38;5;124m'\u001b[39m\u001b[38;5;124mOVER_clusters\u001b[39m\u001b[38;5;124m'\u001b[39m][clust][\u001b[38;5;124m'\u001b[39m\u001b[38;5;124mIE_extra\u001b[39m\u001b[38;5;124m'\u001b[39m]) \u001b[38;5;28;01mif\u001b[39;00m IV_IE_dict[\u001b[38;5;124m'\u001b[39m\u001b[38;5;124mOVER_clusters\u001b[39m\u001b[38;5;124m'\u001b[39m][clust][\u001b[38;5;124m'\u001b[39m\u001b[38;5;124mIE_extra\u001b[39m\u001b[38;5;124m'\u001b[39m] \u001b[38;5;129;01mis\u001b[39;00m \u001b[38;5;129;01mnot\u001b[39;00m \u001b[38;5;28;01mNone\u001b[39;00m \u001b[38;5;28;01melse\u001b[39;00m \u001b[38;5;241m0\u001b[39m \u001b[38;5;28;01mfor\u001b[39;00m clust \u001b[38;5;129;01min\u001b[39;00m \u001b[38;5;28mrange\u001b[39m(\u001b[38;5;28mlen\u001b[39m(IV_IE_dict[\u001b[38;5;124m'\u001b[39m\u001b[38;5;124mOVER_clusters\u001b[39m\u001b[38;5;124m'\u001b[39m])))\n",
      "File \u001b[0;32m~/Desktop/EagleEye/examples/Gaussian/../../eagleeye/EagleEye_v7.py:985\u001b[0m, in \u001b[0;36mIV_IE_get_dict\u001b[0;34m(clusters, result_dict, thresh, data_with_anomaly, reference_data)\u001b[0m\n\u001b[1;32m    983\u001b[0m ii\u001b[38;5;241m+\u001b[39m\u001b[38;5;241m=\u001b[39m\u001b[38;5;241m1\u001b[39m\n\u001b[1;32m    984\u001b[0m \u001b[38;5;66;03m# Get intersection of underdensity and cluster\u001b[39;00m\n\u001b[0;32m--> 985\u001b[0m intersection           \u001b[38;5;241m=\u001b[39m \u001b[38;5;28mlist\u001b[39m(\u001b[38;5;28mset\u001b[39m(overdensity_indicies_minus)\u001b[38;5;241m.\u001b[39mintersection(\u001b[38;5;28mset\u001b[39m(cluster_r)))\n\u001b[1;32m    986\u001b[0m \u001b[38;5;28;01mif\u001b[39;00m intersection:\n\u001b[1;32m    988\u001b[0m     minimum_upsilion_minus \u001b[38;5;241m=\u001b[39m np\u001b[38;5;241m.\u001b[39mquantile(result_dict[\u001b[38;5;124m'\u001b[39m\u001b[38;5;124mstats_reverse\u001b[39m\u001b[38;5;124m'\u001b[39m][\u001b[38;5;124m'\u001b[39m\u001b[38;5;124mUpsilon_i_plus\u001b[39m\u001b[38;5;124m'\u001b[39m][intersection],\u001b[38;5;241m0.01\u001b[39m)\n",
      "\u001b[0;31mTypeError\u001b[0m: unhashable type: 'numpy.ndarray'"
     ]
    }
   ],
   "source": [
    "\n",
    "for contamination_size in contamination_sizes:\n",
    "    background_size=tot_samples-contamination_size-1\n",
    "    #loop over different center locations\n",
    "    sig=1.\n",
    "    sigma_a = .3\n",
    "\n",
    "    dim, sizes, means, cstd2 = setup_gaussian_components(num_dimensions=num_dimensions, background_size=background_size, shift_factors = sig, contamination_size=contamination_size )\n",
    "    cstd1 = sigma_a\n",
    "    covariances = [np.eye(dim), sigma_a**2 * np.eye(dim), cstd2 * np.eye(dim)]\n",
    "\n",
    "    X = np.random.multivariate_normal(np.array([0] + [0] * (dim - 1)), np.eye(dim), np.array(sizes).sum())\n",
    "\n",
    "    test_data_G = generate_gaussian_mixture(dim, sizes, means, covariances)\n",
    "    test_data_T = generate_data_with_torus_anomalies(num_dimensions=dim, cluster_sizes=sizes, anomaly_radius=sigma_a, shift_factors=sig)\n",
    "\n",
    "\n",
    "\n",
    "    #VALIDATION            = reference_data.shape[0]\n",
    "\n",
    "\n",
    "    result_dict, stats_null = EagleEye.Soar(X, test_data_T, K_M=K_M, p_ext=p_ext, n_jobs=n_jobs, stats_null=stats_null, result_dict_in={})\n",
    "\n",
    "    #%% Cluter the Putative anomalies\n",
    "    \n",
    "    clusters = partitioning_function(X,test_data_T,result_dict,p_ext=p_ext,Z=2.65 )\n",
    "    \n",
    "    #%% Repêchage\n",
    "    \n",
    "    EE_book = EagleEye.Repechage(X,test_data_T,result_dict,clusters,p_ext=1e-5)\n",
    "    \n",
    "\n",
    "    result_dict_G, stats_null = EagleEye.Soar(X, test_data_G, K_M=K_M, p_ext=p_ext, n_jobs=n_jobs, stats_null=stats_null, result_dict_in={})\n",
    "\n",
    "    #%% Cluter the Putative anomalies\n",
    "    \n",
    "    clusters_G = partitioning_function(X,test_data_G,result_dict,p_ext=p_ext,Z=2.65 )\n",
    "    \n",
    "    #%% Repêchage\n",
    "    \n",
    "    EE_book_G = EagleEye.Repechage(X,test_data_G,result_dict,clusters,p_ext=1e-5)\n",
    "    \n",
    "        \n",
    "    results_10k['Torous'][contamination_size]['len_Repechaged'] = sum(len(EE_book['Y_OVER_clusters'][clust]['Repechaged']) if EE_book['Y_OVER_clusters'][clust]['Repechaged'] is not None else 0 for clust in range(len(EE_book['Y_OVER_clusters'])))\n",
    "    results_10k['Torous'][contamination_size]['len_Pruned']  = sum(len(EE_book['Y_OVER_clusters'][clust]['Pruned']) if EE_book['Y_OVER_clusters'][clust]['Pruned'] is not None else 0 for clust in range(len(EE_book['Y_OVER_clusters'])))\n",
    "    results_10k['Torous'][contamination_size]['Upsilon_star']  = result_dict['Upsilon_star_plus'][result_dict['p_ext']]\n",
    "\n",
    "    results_10k['Gaussian'][contamination_size]['len_Repechaged'] = sum(len(EE_book_G['Y_OVER_clusters'][clust]['Repechaged']) if EE_book_G['Y_OVER_clusters'][clust]['Repechaged'] is not None else 0 for clust in range(len(EE_book_G['Y_OVER_clusters'])))\n",
    "    results_10k['Gaussian'][contamination_size]['len_Pruned'] = sum(len(EE_book_G['Y_OVER_clusters'][clust]['Pruned']) if EE_book_G['Y_OVER_clusters'][clust]['Pruned'] is not None else 0 for clust in range(len(EE_book_G['Y_OVER_clusters'])))\n",
    "    results_10k['Gaussian'][contamination_size]['Upsilon_star'] = result_dict['Upsilon_star_plus'][result_dict['p_ext']]\n",
    "\n",
    "\n",
    "    "
   ]
  },
  {
   "cell_type": "code",
   "execution_count": null,
   "id": "fbb98474-3bad-448b-b9ba-e4e8d7d7f51a",
   "metadata": {},
   "outputs": [],
   "source": []
  },
  {
   "cell_type": "code",
   "execution_count": 15,
   "id": "bbe28685",
   "metadata": {},
   "outputs": [
    {
     "data": {
      "text/plain": [
       "{'Torous': {1000: {'len_Pruned': 1019,\n",
       "   'len_Repechaged': 1012,\n",
       "   'Upsilon_star': 14.794602592183983},\n",
       "  750: {'len_Pruned': 704,\n",
       "   'len_Repechaged': 740,\n",
       "   'Upsilon_star': 14.794602592183983},\n",
       "  500: {'len_Pruned': 453,\n",
       "   'len_Repechaged': 506,\n",
       "   'Upsilon_star': 14.794602592183983},\n",
       "  250: {'len_Pruned': 216,\n",
       "   'len_Repechaged': 276,\n",
       "   'Upsilon_star': 14.794602592183983},\n",
       "  150: {'len_Pruned': 112,\n",
       "   'len_Repechaged': 150,\n",
       "   'Upsilon_star': 14.794602592183983},\n",
       "  70: {'len_Pruned': 44,\n",
       "   'len_Repechaged': 64,\n",
       "   'Upsilon_star': 14.794602592183983}},\n",
       " 'Gaussian': {1000: {'len_Pruned': 1019,\n",
       "   'len_Repechaged': 1012,\n",
       "   'Upsilon_star': 14.794602592183983},\n",
       "  750: {'len_Pruned': 704,\n",
       "   'len_Repechaged': 740,\n",
       "   'Upsilon_star': 14.794602592183983},\n",
       "  500: {'len_Pruned': 453,\n",
       "   'len_Repechaged': 506,\n",
       "   'Upsilon_star': 14.794602592183983},\n",
       "  250: {'len_Pruned': 216,\n",
       "   'len_Repechaged': 276,\n",
       "   'Upsilon_star': 14.794602592183983},\n",
       "  150: {'len_Pruned': 112,\n",
       "   'len_Repechaged': 150,\n",
       "   'Upsilon_star': 14.794602592183983},\n",
       "  70: {'len_Pruned': 44,\n",
       "   'len_Repechaged': 64,\n",
       "   'Upsilon_star': 14.794602592183983}}}"
      ]
     },
     "execution_count": 15,
     "metadata": {},
     "output_type": "execute_result"
    }
   ],
   "source": [
    "results_10k"
   ]
  },
  {
   "cell_type": "code",
   "execution_count": null,
   "id": "3e4cb995-5fd6-4825-b57c-e3fa2b3a9841",
   "metadata": {},
   "outputs": [],
   "source": []
  },
  {
   "cell_type": "code",
   "execution_count": 20,
   "id": "8b1260df",
   "metadata": {},
   "outputs": [],
   "source": [
    "# define the null \n",
    "num_dimensions = 10\n",
    "tot_samples_100k = 100000"
   ]
  },
  {
   "cell_type": "code",
   "execution_count": 21,
   "id": "38962770",
   "metadata": {},
   "outputs": [],
   "source": [
    "results_100k = {\n",
    "\"Torous\": {\n",
    "    i: {\"len_IE_extra\": None, \"len_From_test\": None,\"Upsilon_star\": None}\n",
    "    for i in contamination_sizes\n",
    "},\n",
    "\"Gaussian\": {\n",
    "    i: {\"len_IE_extra\": None, \"len_From_test\": None,\"Upsilon_star\": None}\n",
    "    for i in contamination_sizes\n",
    "}\n",
    "}\n"
   ]
  },
  {
   "cell_type": "code",
   "execution_count": null,
   "id": "55c15831",
   "metadata": {},
   "outputs": [
    {
     "name": "stdout",
     "output_type": "stream",
     "text": [
      "-----------------------------------------------------------------\n",
      "Eagle...Soar!\n",
      "-----------------------------------------------------------------\n",
      "Compute the nearest neighbours\n",
      "KNN completed: 0.00 %\n"
     ]
    }
   ],
   "source": [
    "for contamination_size in contamination_sizes:\n",
    "    background_size_100k=tot_samples_100k-contamination_size-1\n",
    "    #loop over different center locations\n",
    "    sig=1.\n",
    "    sigma_a = .3\n",
    "\n",
    "    dim, sizes, means, cstd2 = setup_gaussian_components(num_dimensions=num_dimensions, background_size=background_size_100k, shift_factors = sig, contamination_size=contamination_size )\n",
    "    cstd1 = sigma_a\n",
    "    covariances = [np.eye(dim), sigma_a**2 * np.eye(dim), cstd2 * np.eye(dim)]\n",
    "\n",
    "    X = np.random.multivariate_normal(np.array([0] + [0] * (dim - 1)), np.eye(dim), np.array(sizes).sum())\n",
    "\n",
    "    test_data_G = generate_gaussian_mixture(dim, sizes, means, covariances)\n",
    "    test_data_T = generate_data_with_torus_anomalies(num_dimensions=dim, cluster_sizes=sizes, anomaly_radius=sigma_a, shift_factors=sig)\n",
    "\n",
    "\n",
    "#VALIDATION            = reference_data.shape[0]\n",
    "\n",
    "\n",
    "    result_dict, stats_null = EagleEye.Soar(X, test_data_T, K_M=K_M, p_ext=p_ext, n_jobs=n_jobs, stats_null=stats_null, result_dict_in={})\n",
    "\n",
    "    #%% Cluter the Putative anomalies\n",
    "    \n",
    "    clusters = partitioning_function(X,test_data_T,result_dict,p_ext=p_ext,Z=2.65 )\n",
    "    \n",
    "    #%% Repêchage\n",
    "    \n",
    "    EE_book = EagleEye.Repechage(X,test_data_T,result_dict,clusters,p_ext=1e-5)\n",
    "    \n",
    "\n",
    "    result_dict_G, stats_null = EagleEye.Soar(X, test_data_G, K_M=K_M, p_ext=p_ext, n_jobs=n_jobs, stats_null=stats_null, result_dict_in={})\n",
    "\n",
    "    #%% Cluter the Putative anomalies\n",
    "    \n",
    "    clusters_G = partitioning_function(X,test_data_G,result_dict,p_ext=p_ext,Z=2.65 )\n",
    "    \n",
    "    #%% Repêchage\n",
    "    \n",
    "    EE_book_G = EagleEye.Repechage(X,test_data_G,result_dict,clusters,p_ext=1e-5)\n",
    "    \n",
    "        \n",
    "    results_100k['Torous'][contamination_size]['len_Repechaged'] = sum(len(EE_book['Y_OVER_clusters'][clust]['Repechaged']) if EE_book['Y_OVER_clusters'][clust]['Repechaged'] is not None else 0 for clust in range(len(EE_book['Y_OVER_clusters'])))\n",
    "    results_100k['Torous'][contamination_size]['len_Pruned']  = sum(len(EE_book['Y_OVER_clusters'][clust]['Pruned']) if EE_book['Y_OVER_clusters'][clust]['Pruned'] is not None else 0 for clust in range(len(EE_book['Y_OVER_clusters'])))\n",
    "    results_100k['Torous'][contamination_size]['Upsilon_star']  = result_dict['Upsilon_star_plus'][result_dict['p_ext']]\n",
    "\n",
    "    results_100k['Gaussian'][contamination_size]['len_Repechaged'] = sum(len(EE_book_G['Y_OVER_clusters'][clust]['Repechaged']) if EE_book_G['Y_OVER_clusters'][clust]['Repechaged'] is not None else 0 for clust in range(len(EE_book_G['Y_OVER_clusters'])))\n",
    "    results_100k['Gaussian'][contamination_size]['len_Pruned'] = sum(len(EE_book_G['Y_OVER_clusters'][clust]['Pruned']) if EE_book_G['Y_OVER_clusters'][clust]['Pruned'] is not None else 0 for clust in range(len(EE_book_G['Y_OVER_clusters'])))\n",
    "    results_100k['Gaussian'][contamination_size]['Upsilon_star'] = result_dict['Upsilon_star_plus'][result_dict['p_ext']]\n",
    "\n",
    "    "
   ]
  },
  {
   "cell_type": "code",
   "execution_count": null,
   "id": "8faa1877",
   "metadata": {},
   "outputs": [],
   "source": [
    "TFRep_100k = [results_100k['Torous'][cluster]['len_Repechaged'] for cluster in contamination_sizes]\n",
    "GFRep_100k = [results_100k['Gaussian'][cluster]['len_Repechaged'] for cluster in contamination_sizes]\n",
    "TFPru_100k = [results_100k['Torous'][cluster]['len_Pruned'] for cluster in contamination_sizes]\n",
    "GFPru_100k = [results_100k['Gaussian'][cluster]['len_Pruned'] for cluster in contamination_sizes]"
   ]
  },
  {
   "cell_type": "code",
   "execution_count": null,
   "id": "0bd795e3",
   "metadata": {},
   "outputs": [],
   "source": [
    "plt.figure()\n",
    "plt.scatter(contamination_sizes, TFPru_100k)\n",
    "plt.scatter(contamination_sizes, GFPru_100k)\n",
    "plt.plot(contamination_sizes,contamination_sizes, c='k')\n",
    "plt.xlim([-30,1030])\n",
    "plt.ylim([-30,1030])\n",
    "plt.legend(['Pruned Torous 100k','Pruned Gaussian 100k'])\n",
    "plt.xlabel('n_anomaly')\n",
    "plt.ylabel('n_equalized')"
   ]
  },
  {
   "cell_type": "code",
   "execution_count": null,
   "id": "652d7892",
   "metadata": {},
   "outputs": [],
   "source": [
    "plt.figure()\n",
    "plt.scatter(contamination_sizes, np.array(TFPru_100k)/np.array(contamination_sizes))\n",
    "plt.scatter(contamination_sizes, np.array(GFPru_100k)/np.array(contamination_sizes))\n",
    "\n",
    "plt.xlim([-30,1030])\n",
    "plt.ylim([0,2])\n",
    "plt.legend(['Pruned Torous 100k','Pruned Gaussian 100k'])\n",
    "plt.xlabel('n_anomaly')\n",
    "plt.ylabel('proportion_equalized')"
   ]
  },
  {
   "cell_type": "code",
   "execution_count": null,
   "id": "71fece0d",
   "metadata": {},
   "outputs": [],
   "source": [
    "plt.figure()\n",
    "plt.scatter(contamination_sizes, TFRep_100k)\n",
    "plt.scatter(contamination_sizes, GFRep_100k)\n",
    "plt.plot(contamination_sizes,contamination_sizes, c='k')\n",
    "plt.xlim([-30,1030])\n",
    "plt.ylim([-30,2030])\n",
    "plt.legend(['Repechage Torous 100k','Repechage Gaussian 100k'])\n",
    "plt.xlabel('n_anomaly')\n",
    "plt.ylabel('n_repechage')"
   ]
  },
  {
   "cell_type": "code",
   "execution_count": null,
   "id": "62b2c10f",
   "metadata": {},
   "outputs": [],
   "source": [
    "plt.figure()\n",
    "plt.scatter(contamination_sizes, np.array(TFRep_100k)/np.array(contamination_sizes))\n",
    "plt.scatter(contamination_sizes, np.array(GFRep_100k)/np.array(contamination_sizes))\n",
    "plt.xlim([-30,1030])\n",
    "plt.ylim([0,2])\n",
    "plt.legend(['Repechage Torous 100k','Repechage Gaussian 100k'])\n",
    "plt.xlabel('n_anomaly')\n",
    "plt.ylabel('proportion_repechage')"
   ]
  },
  {
   "cell_type": "code",
   "execution_count": null,
   "id": "1934fa5a",
   "metadata": {},
   "outputs": [],
   "source": []
  },
  {
   "cell_type": "code",
   "execution_count": null,
   "id": "308c6058",
   "metadata": {},
   "outputs": [],
   "source": []
  }
 ],
 "metadata": {
  "kernelspec": {
   "display_name": "Python 3 (ipykernel)",
   "language": "python",
   "name": "python3"
  },
  "language_info": {
   "codemirror_mode": {
    "name": "ipython",
    "version": 3
   },
   "file_extension": ".py",
   "mimetype": "text/x-python",
   "name": "python",
   "nbconvert_exporter": "python",
   "pygments_lexer": "ipython3",
   "version": "3.12.9"
  }
 },
 "nbformat": 4,
 "nbformat_minor": 5
}

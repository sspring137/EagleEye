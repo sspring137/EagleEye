{
 "cells": [
  {
   "cell_type": "markdown",
   "metadata": {},
   "source": [
    "![eagle](../../eagleeye/eagle_eye_log.jpeg)\n"
   ]
  },
  {
   "cell_type": "code",
   "execution_count": 3,
   "metadata": {},
   "outputs": [
    {
     "name": "stdout",
     "output_type": "stream",
     "text": [
      "--2024-10-29 10:17:57--  https://zenodo.org/records/6466204/files/events_anomalydetection_v2.features.h5?download=1\n",
      "Resolving zenodo.org (zenodo.org)... 188.184.103.159, 188.185.79.172, 188.184.98.238, ...\n",
      "Connecting to zenodo.org (zenodo.org)|188.184.103.159|:443... connected.\n",
      "HTTP request sent, awaiting response... 200 OK\n",
      "Length: 74315238 (71M) [application/octet-stream]\n",
      "Saving to: ‘events_anomalydetection_v2.features.h5?download=1’\n",
      "\n",
      "events_anomalydetec 100%[===================>]  70.87M  22.0MB/s    in 3.5s    \n",
      "\n",
      "2024-10-29 10:18:00 (20.4 MB/s) - ‘events_anomalydetection_v2.features.h5?download=1’ saved [74315238/74315238]\n",
      "\n",
      "--2024-10-29 10:18:00--  http://./\n",
      "Resolving . (.)... failed: Name or service not known.\n",
      "wget: unable to resolve host address ‘.’\n",
      "FINISHED --2024-10-29 10:18:00--\n",
      "Total wall clock time: 3.8s\n",
      "Downloaded: 1 files, 71M in 3.5s (20.4 MB/s)\n"
     ]
    }
   ],
   "source": [
    "\"\"\"\n",
    "@author: Andre Scaffidi (AndreScaffidi)\n",
    "@author: Sebastian Springer (sspringe137)\n",
    "\n",
    "This is a notebook to create figures 2 and 8 from the paper\n",
    "\n",
    "\"\"\"\n",
    "\n",
    "# Download the LHC Olympics R&D data from Zenodo if you don't have it already. \n",
    "# https://zenodo.org/records/4536377\n",
    "# Can then use load_the_data.py to create the npy file we use for analysis. \n",
    "# Current data file is in ./data/LHC_data1p1M_new_features.npy so don't need to do this step\n",
    "\n",
    "!wget https://zenodo.org/records/6466204/files/events_anomalydetection_v2.features.h5?download=1 .\n",
    "!mv 'events_anomalydetection_v2.features.h5?download=1' events_anomalydetection_v2.features.h5\n"
   ]
  },
  {
   "cell_type": "code",
   "execution_count": 1,
   "metadata": {},
   "outputs": [],
   "source": [
    "\"\"\"\n",
    "Read the data and partitian the features as per Sec. 3.2 of the paper.\n",
    "The result is a numpy array with columns corresponding to \n",
    "['|p|1', '|p|2', 'tau21j1', 'tau21j2', 'tau32j1', 'tau32j2' , 'mj1', 'mj2', 'label']\n",
    "\"\"\"\n",
    "import pandas as pd\n",
    "import numpy as np\n",
    "\n",
    "file_path              = 'data/events_anomalydetection_v2.features.h5'\n",
    "df_features            = pd.read_hdf(file_path)\n",
    "# Feature engineering\n",
    "df_features['|p|1']    = np.sqrt(np.sum(df_features[['pxj1', 'pyj1', 'pzj1']]**2, axis=1))\n",
    "df_features['|p|2']    = np.sqrt(np.sum(df_features[['pxj2', 'pyj2', 'pzj2']]**2, axis=1))\n",
    "df_features['tau21j1'] = df_features['tau2j1']/df_features['tau1j1']\n",
    "df_features['tau21j2'] = df_features['tau2j2']/df_features['tau1j2']\n",
    "df_features['tau32j1'] = df_features['tau3j1']/df_features['tau2j1']\n",
    "df_features['tau32j2'] = df_features['tau3j2']/df_features['tau2j2']\n",
    "\n",
    "new_features           = ['|p|1', '|p|2', 'tau21j1', 'tau21j2', 'tau32j1', 'tau32j2']\n",
    "df_features            = df_features[new_features + [col for col in df_features.columns if col not in new_features]]\n",
    "\n",
    "LHC_data1p1M           = df_features.to_numpy()[ :, [0,1,2,3,4,5,9,16,20] ]\n",
    "\n",
    "# Print the shape of the np array\n",
    "LHC_data1p1M[np.isnan(LHC_data1p1M)]                  = 0     # Andre suggestion\n",
    "\n",
    "np.save('data/LHC_data1p1M_new_features.npy',LHC_data1p1M)"
   ]
  },
  {
   "cell_type": "code",
   "execution_count": null,
   "metadata": {},
   "outputs": [],
   "source": []
  }
 ],
 "metadata": {
  "kernelspec": {
   "display_name": "lhc",
   "language": "python",
   "name": "python3"
  },
  "language_info": {
   "codemirror_mode": {
    "name": "ipython",
    "version": 3
   },
   "file_extension": ".py",
   "mimetype": "text/x-python",
   "name": "python",
   "nbconvert_exporter": "python",
   "pygments_lexer": "ipython3",
   "version": "3.9.19"
  }
 },
 "nbformat": 4,
 "nbformat_minor": 2
}

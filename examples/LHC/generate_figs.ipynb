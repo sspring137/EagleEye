{
 "cells": [
  {
   "cell_type": "markdown",
   "metadata": {},
   "source": [
    "![eagle](../../eagleeye/eagle_eye_log.jpeg)\n"
   ]
  },
  {
   "cell_type": "code",
   "execution_count": 3,
   "metadata": {},
   "outputs": [
    {
     "name": "stdout",
     "output_type": "stream",
     "text": [
      "--2024-10-29 10:17:57--  https://zenodo.org/records/6466204/files/events_anomalydetection_v2.features.h5?download=1\n",
      "Resolving zenodo.org (zenodo.org)... 188.184.103.159, 188.185.79.172, 188.184.98.238, ...\n",
      "Connecting to zenodo.org (zenodo.org)|188.184.103.159|:443... connected.\n",
      "HTTP request sent, awaiting response... 200 OK\n",
      "Length: 74315238 (71M) [application/octet-stream]\n",
      "Saving to: ‘events_anomalydetection_v2.features.h5?download=1’\n",
      "\n",
      "events_anomalydetec 100%[===================>]  70.87M  22.0MB/s    in 3.5s    \n",
      "\n",
      "2024-10-29 10:18:00 (20.4 MB/s) - ‘events_anomalydetection_v2.features.h5?download=1’ saved [74315238/74315238]\n",
      "\n",
      "--2024-10-29 10:18:00--  http://./\n",
      "Resolving . (.)... failed: Name or service not known.\n",
      "wget: unable to resolve host address ‘.’\n",
      "FINISHED --2024-10-29 10:18:00--\n",
      "Total wall clock time: 3.8s\n",
      "Downloaded: 1 files, 71M in 3.5s (20.4 MB/s)\n"
     ]
    }
   ],
   "source": [
    "\"\"\"\n",
    "@author: Andre Scaffidi (AndreScaffidi)\n",
    "@author: Sebastian Springer (sspringe137)\n",
    "\n",
    "This is a notebook to create figures 2 and 8 from the paper\n",
    "\n",
    "\"\"\"\n",
    "\n",
    "# Download the LHC Olympics data from Zenodo if you don't have it already. \n",
    "# Can then use load_the_data.py to create the npy file we use for analysis. \n",
    "# Current data file is in ./data/LHC_data1p1M_new_features.npy so don't need to do this step\n",
    "\n",
    "!wget https://zenodo.org/records/6466204/files/events_anomalydetection_v2.features.h5?download=1 .\n",
    "!mv 'events_anomalydetection_v2.features.h5?download=1' events_anomalydetection_v2.features.h5\n"
   ]
  },
  {
   "cell_type": "code",
   "execution_count": null,
   "metadata": {},
   "outputs": [],
   "source": []
  }
 ],
 "metadata": {
  "kernelspec": {
   "display_name": "lhc",
   "language": "python",
   "name": "python3"
  },
  "language_info": {
   "codemirror_mode": {
    "name": "ipython",
    "version": 3
   },
   "file_extension": ".py",
   "mimetype": "text/x-python",
   "name": "python",
   "nbconvert_exporter": "python",
   "pygments_lexer": "ipython3",
   "version": "3.9.19"
  }
 },
 "nbformat": 4,
 "nbformat_minor": 2
}
